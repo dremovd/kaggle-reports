{
 "metadata": {
  "name": ""
 },
 "nbformat": 3,
 "nbformat_minor": 0,
 "worksheets": [
  {
   "cells": [
    {
     "cell_type": "raw",
     "metadata": {},
     "source": [
      "\u0414\u0440\u0435\u043c\u043e\u0432 \u0414\u043c\u0438\u0442\u0440\u0438\u0439, CS\n",
      "\n",
      "\u041f\u043b\u0430\u043d \u0440\u0430\u0431\u043e\u0442\u044b\n",
      "0. \u0418\u043d\u0438\u0446\u0438\u0430\u043b\u0438\u0437\u0430\u0446\u0438\u044f. \u0417\u0430\u0433\u0440\u0443\u0437\u043a\u0430 \u0434\u0430\u043d\u043d\u044b\u0445.\n",
      "\n",
      "1. \u0412\u0437\u0432\u0435\u0448\u0438\u0432\u0430\u043d\u0438\u0435 \u0438 \u0444\u0438\u043b\u044c\u0442\u0440\u0430\u0446\u0438\u044f \u043f\u0440\u0438\u0437\u043d\u0430\u043a\u043e\u0432 \u0438\u0441\u0445\u043e\u0434\u044f \u0438\u0445 \u0441\u0430\u043c\u043e\u0441\u0442\u043e\u044f\u0442\u0435\u043b\u044c\u043d\u043e\u0439 \u0441\u043f\u043e\u0441\u043e\u0431\u043d\u043e\u0441\u0442\u0438 \u0440\u0430\u0437\u0434\u0435\u043b\u044f\u0442\u044c \u043a\u043b\u0430\u0441\u0441\u044b.\n",
      "\n",
      "\u0422\u0440\u0438 \u0440\u0430\u0437\u043b\u0438\u0447\u043d\u044b\u0445 \u043f\u043e\u0434\u0445\u043e\u0434\u0430 \u043a \u043a\u043b\u0430\u0441\u0441\u0438\u0444\u0438\u043a\u0430\u0446\u0438\u0438:\n",
      "\n",
      "A) \u041d\u0430 \u043e\u0441\u043d\u043e\u0432\u0435 \u043b\u043e\u0433\u0438\u0447\u0435\u0441\u043a\u0438\u0445 \u0443\u0441\u043b\u043e\u0432\u0438\u0439 \"\u0437\u0430\" \u0438 \"\u043f\u0440\u043e\u0442\u0438\u0432\" \u043a\u043e\u0442\u043e\u0440\u044b\u0435 \u043f\u043e\u0434\u043e\u0431\u0440\u0430\u043d\u044b \u043e\u0442\u0447\u0430\u0441\u0442\u0438 \u0438\u0441\u0445\u043e\u0434\u044f \u0438\u0437 \u043f\u0440\u043e\u0441\u043c\u043e\u0442\u0440\u0430 \u0433\u0438\u0441\u0442\u043e\u0433\u0440\u0430\u043c\u043c, \u0430 \u043e\u0442\u0447\u0430\u0441\u0442\u0438 \u0438\u0437 \u043b\u043e\u0433\u0438\u0447\u0435\u0441\u043a\u0438\u0445 \u0441\u043e\u043e\u0431\u0440\u0430\u0436\u0435\u043d\u0438\u0439.\n",
      "\u041d\u0430 \u0447\u0438\u0441\u0442\u044b\u0445 \u0434\u0430\u043d\u043d\u044b\u0445.\n",
      "\n",
      "\u0411) kNN c \u043f\u043e\u0434\u0431\u043e\u0440\u043e\u043c \u043f\u0430\u0440\u0430\u043c\u0435\u0442\u0440\u043e\u0432 \u0441 \u0432\u044b\u043a\u0438\u0434\u044b\u0432\u0430\u043d\u0438\u0435\u043c \u0448\u0443\u043c\u043e\u0432\u044b\u0445 \u043f\u0440\u0438\u043c\u0435\u0440\u043e\u0432 \u043d\u0430 \u0432\u0437\u0432\u0435\u0448\u0435\u043d\u043d\u044b\u0445 \u0434\u0430\u043d\u043d\u044b\u0445.\n",
      "\n",
      "\u0412) \u041b\u0435\u0441 \u0440\u0435\u0448\u0430\u044e\u0449\u0438\u0445 \u0434\u0435\u0440\u0435\u0432\u044c\u0435\u0432 \u043d\u0430 \u0432\u0437\u0432\u0435\u0448\u0435\u043d\u043d\u044b\u0445 \u043e\u0442\u0444\u0438\u043b\u044c\u0442\u0440\u043e\u0432\u0430\u043d\u043d\u044b\u0445 \u0434\u0430\u043d\u043d\u044b\u0445.\n",
      "\n",
      "\u0413) \u0418\u0441\u043f\u043e\u043b\u044c\u0437\u0443\u0435\u043c \u0440\u0435\u0437\u0443\u043b\u044c\u0442\u0430\u0442\u044b \u0432\u0441\u0435\u0445 \u0442\u0440\u0451\u0445 \u0430\u043b\u0433\u043e\u0440\u0438\u0442\u043c\u043e\u0432 \u0447\u0442\u043e\u0431\u044b \u0443\u043b\u0443\u0447\u0448\u0438\u0442\u044c \u043a\u0430\u0447\u0435\u0441\u0442\u0432\u043e\n",
      "\n",
      "\u0410\u043a\u0442\u0438\u0432\u043d\u043e \u0438\u0441\u043f\u043e\u043b\u044c\u0437\u0443\u0435\u043c baseline \u043a\u0430\u043a \u0438\u0441\u0442\u043e\u0447\u043d\u0438\u043a \u043a\u043e\u043c\u0430\u043d\u0434"
     ]
    },
    {
     "cell_type": "heading",
     "level": 2,
     "metadata": {},
     "source": [
      "0. \u0418\u043d\u0438\u0446\u0438\u0430\u043b\u0438\u0437\u0430\u0446\u0438\u044f. \u0417\u0430\u0433\u0440\u0443\u0437\u043a\u0430 \u0434\u0430\u043d\u043d\u044b\u0445."
     ]
    },
    {
     "cell_type": "code",
     "collapsed": false,
     "input": [
      "import pandas as pd\n",
      "\n",
      "import psutil\n",
      "from multiprocessing import cpu_count\n",
      "import os\n",
      "\n",
      "p = psutil.Process(os.getpid())\n",
      "p.set_cpu_affinity(range(cpu_count()))\n",
      "print p.get_cpu_affinity()"
     ],
     "language": "python",
     "metadata": {},
     "outputs": [
      {
       "output_type": "stream",
       "stream": "stdout",
       "text": [
        "[0, 1, 2, 3]\n"
       ]
      }
     ],
     "prompt_number": 1
    },
    {
     "cell_type": "code",
     "collapsed": false,
     "input": [
      "from copy import deepcopy\n",
      "\n",
      "def dummy_encode_categorical_columns(df, categorical_columns):\n",
      "    result_df = deepcopy(df)\n",
      "    for column in categorical_columns:\n",
      "        result_df = pd.concat([result_df, pd.get_dummies(result_df[column], prefix=column, prefix_sep=': ')], axis=1)\n",
      "        del result_df[column]\n",
      "    return result_df\n",
      "\n",
      "def enum_coding(data, categorical_columns, classes = None) :\n",
      "    coded = data.copy()\n",
      "\n",
      "    for column in categorical_columns :\n",
      "        coding_rule = None\n",
      "        values = list(set(data[column]))\n",
      "        if classes == None :\n",
      "            values.sort()\n",
      "        else :\n",
      "            def frequency(value) :\n",
      "                filtered = data[:len(classes)]\n",
      "                filtered = filtered[[c == value for c in classes]]\n",
      "                return average(filtered[column])\n",
      "                    \n",
      "            values = [v for f, v in sorted([(frequency(v), v) for v in values]) ]\n",
      "            \n",
      "        coding_rule = dict([ (v, i) for i, v in enumerate(values) ])\n",
      "        coded[column] = map(lambda v: coding_rule[v], data[column])\n",
      "            \n",
      "    return coded"
     ],
     "language": "python",
     "metadata": {},
     "outputs": [],
     "prompt_number": 2
    },
    {
     "cell_type": "code",
     "collapsed": false,
     "input": [
      "df_train = pd.read_csv('lab2/train.csv')\n",
      "y_train = (df_train['CLASS'] == '50000+').values.astype(np.float32)\n",
      "\n",
      "df_test = pd.read_csv('lab2/test.csv')\n",
      "\n",
      "del df_train['AWKSTAT']\n",
      "del df_test['AWKSTAT']\n",
      "del df_train['WKSWORK']\n",
      "del df_test['WKSWORK']\n",
      "\n",
      "print df_train.shape, df_test.shape"
     ],
     "language": "python",
     "metadata": {},
     "outputs": [
      {
       "output_type": "stream",
       "stream": "stdout",
       "text": [
        "(10000, 40) (4800, 40)\n"
       ]
      }
     ],
     "prompt_number": 3
    },
    {
     "cell_type": "raw",
     "metadata": {},
     "source": [
      "\u0421\u043a\u043b\u0435\u0438\u0432\u0430\u0435\u043c \u0434\u0430\u043d\u043d\u044b\u0435, \u0447\u0442\u043e\u0431\u044b \u043f\u043e\u0442\u043e\u043c \u043d\u0435 \u0432\u043e\u0437\u0438\u0442\u044c\u0441\u044f \u0441 \u043f\u0435\u0440\u0435\u043d\u043e\u0441\u043e\u043c \u0432\u0441\u0435\u0445 \u043f\u0440\u0435\u043e\u0431\u0440\u0430\u0437\u043e\u0432\u0430\u043d\u0438\u0439 \u0441 \u043e\u0434\u043d\u043e\u0433\u043e \u0444\u0440\u0435\u0439\u043c\u0430 \u043d\u0430 \u0434\u0440\u0443\u0433\u043e\u0439\n",
      "\n",
      "\u0412\u0430\u0436\u043d\u043e. \u042f\u0432\u043d\u043e \u0434\u0430\u043c\u043c\u0438-\u043a\u043e\u0434\u0438\u0440\u0443\u0435\u043c \u0447\u0438\u0441\u043b\u043e\u0432\u044b\u0435 \u0437\u043d\u0430\u0447\u0435\u043d\u0438\u044f \u043a\u043e\u0442\u043e\u0440\u044b\u0435 \u044f\u0432\u043b\u044f\u044e\u0442\u0441\u044f \u043a\u043b\u0430\u0441\u0441\u0430\u043c\u0438 (\u0433\u0434\u0435 \u043f\u043e\u0440\u044f\u0434\u043e\u043a \u043d\u0435 \u0438\u043c\u0435\u0435\u0442 \u0438\u043b\u0438 \u0438\u043c\u0435\u0435\u0442 \u043c\u0430\u043b\u043e \u0441\u043c\u044b\u0441\u043b\u0430)."
     ]
    },
    {
     "cell_type": "code",
     "collapsed": false,
     "input": [
      "df_full = pd.concat([df_train.drop('CLASS', axis=1), df_test.drop('Id', axis=1)]) \n",
      "categorical_columns = set(['AMJIND', 'AMJOCC', 'VETQVA', 'ADTIND', 'ADTOCC'] + list(set(df_full.columns[df_full.dtypes == 'object'])))\n",
      "\n",
      "X_full = enum_coding(df_full, categorical_columns).values.astype(np.float32)\n",
      "print df_full.shape, X_full.shape"
     ],
     "language": "python",
     "metadata": {},
     "outputs": [
      {
       "output_type": "stream",
       "stream": "stdout",
       "text": [
        "(14800, 39) (14800, 39)\n"
       ]
      }
     ],
     "prompt_number": 4
    },
    {
     "cell_type": "raw",
     "metadata": {},
     "source": [
      "\u0426\u0435\u043d\u0442\u0440\u0438\u0440\u0443\u0435\u043c, \u043d\u043e\u0440\u043c\u0438\u0440\u0443\u0435\u043c (\u043f\u043e-\u043f\u0440\u0438\u0437\u043d\u0430\u043a\u043e\u0432\u043e \u0430 \u043d\u0435 \u043a\u0430\u043a \u0432 \u0431\u0435\u0439\u0437\u043b\u0430\u0439\u043d\u0435!):"
     ]
    },
    {
     "cell_type": "code",
     "collapsed": false,
     "input": [
      "from sklearn.preprocessing import scale\n",
      "X_full = scale(X_full)"
     ],
     "language": "python",
     "metadata": {},
     "outputs": [],
     "prompt_number": 5
    },
    {
     "cell_type": "code",
     "collapsed": false,
     "input": [
      "# Copy paste from scikit site. Just to see if all is ok with input\n",
      "# Project the data to a 2D space for visualization\n",
      "from sklearn.decomposition import RandomizedPCA\n",
      "Xp = RandomizedPCA(n_components=2, random_state=1).fit_transform(X_full[:len(y_train)])\n",
      "\n",
      "from matplotlib import pyplot as plt\n",
      "\n",
      "# Plot individuals \n",
      "populations = np.unique(y_train)\n",
      "colors = plt.get_cmap(\"flag\")\n",
      "plt.figure(figsize=(20, 20))\n",
      "\n",
      "for i, p in enumerate(populations):\n",
      "    mask = (y_train == p)\n",
      "    plt.scatter(Xp[mask, 0], Xp[mask, 1], \n",
      "                c=colors(1. * i / 11), label=p)\n",
      "    \n",
      "#plt.xlim([-5, 15])\n",
      "plt.legend(loc=\"best\")\n",
      "plt.show()"
     ],
     "language": "python",
     "metadata": {},
     "outputs": [
      {
       "ename": "NameError",
       "evalue": "name 'X_full' is not defined",
       "output_type": "pyerr",
       "traceback": [
        "\u001b[1;31m---------------------------------------------------------------------------\u001b[0m\n\u001b[1;31mNameError\u001b[0m                                 Traceback (most recent call last)",
        "\u001b[1;32m<ipython-input-1-f2b83eb704b7>\u001b[0m in \u001b[0;36m<module>\u001b[1;34m()\u001b[0m\n\u001b[0;32m      2\u001b[0m \u001b[1;31m# Project the data to a 2D space for visualization\u001b[0m\u001b[1;33m\u001b[0m\u001b[1;33m\u001b[0m\u001b[0m\n\u001b[0;32m      3\u001b[0m \u001b[1;32mfrom\u001b[0m \u001b[0msklearn\u001b[0m\u001b[1;33m.\u001b[0m\u001b[0mdecomposition\u001b[0m \u001b[1;32mimport\u001b[0m \u001b[0mRandomizedPCA\u001b[0m\u001b[1;33m\u001b[0m\u001b[0m\n\u001b[1;32m----> 4\u001b[1;33m \u001b[0mXp\u001b[0m \u001b[1;33m=\u001b[0m \u001b[0mRandomizedPCA\u001b[0m\u001b[1;33m(\u001b[0m\u001b[0mn_components\u001b[0m\u001b[1;33m=\u001b[0m\u001b[1;36m2\u001b[0m\u001b[1;33m,\u001b[0m \u001b[0mrandom_state\u001b[0m\u001b[1;33m=\u001b[0m\u001b[1;36m1\u001b[0m\u001b[1;33m)\u001b[0m\u001b[1;33m.\u001b[0m\u001b[0mfit_transform\u001b[0m\u001b[1;33m(\u001b[0m\u001b[0mX_full\u001b[0m\u001b[1;33m[\u001b[0m\u001b[1;33m:\u001b[0m\u001b[0mlen\u001b[0m\u001b[1;33m(\u001b[0m\u001b[0my_train\u001b[0m\u001b[1;33m)\u001b[0m\u001b[1;33m]\u001b[0m\u001b[1;33m)\u001b[0m\u001b[1;33m\u001b[0m\u001b[0m\n\u001b[0m\u001b[0;32m      5\u001b[0m \u001b[1;33m\u001b[0m\u001b[0m\n\u001b[0;32m      6\u001b[0m \u001b[1;32mfrom\u001b[0m \u001b[0mmatplotlib\u001b[0m \u001b[1;32mimport\u001b[0m \u001b[0mpyplot\u001b[0m \u001b[1;32mas\u001b[0m \u001b[0mplt\u001b[0m\u001b[1;33m\u001b[0m\u001b[0m\n",
        "\u001b[1;31mNameError\u001b[0m: name 'X_full' is not defined"
       ]
      }
     ],
     "prompt_number": 1
    },
    {
     "cell_type": "heading",
     "level": 2,
     "metadata": {},
     "source": [
      "\u0424\u0438\u043b\u044c\u0442\u0440\u0430\u0446\u0438\u044f \u0438 \u0432\u0437\u0432\u0435\u0448\u0438\u0432\u0430\u043d\u0438\u0435"
     ]
    },
    {
     "cell_type": "raw",
     "metadata": {},
     "source": [
      "\u0422\u0435\u043f\u0435\u0440\u044c \u043f\u043e\u0444\u0438\u043b\u044c\u0442\u0440\u0443\u0435\u043c \u0438 \u0432\u0437\u0432\u0435\u0441\u0438\u043c \u043f\u0440\u0438\u0437\u043d\u0430\u043a\u0438 : "
     ]
    },
    {
     "cell_type": "raw",
     "metadata": {},
     "source": [
      "# This is not useful, so it's here just for history reasons\n",
      "from math import exp\n",
      "\n",
      "k_array = []\n",
      "\n",
      "k_filter_limit = 0.1\n",
      "\n",
      "X_full_weighted = X_full.copy()\n",
      "good_feature_n = 0\n",
      "\n",
      "for f_num in range(X_full.shape[1]) :\n",
      "    # Take only train samples\n",
      "    values = X_full[:len(y_train), f_num]\n",
      "    \n",
      "    values_0 = [v for v, c in zip(values, y_train) if c == 0]\n",
      "    values_1 = [v for v, c in zip(values, y_train) if c == 1]\n",
      "    \n",
      "    mean_0, std_0 = np.mean(values_0), np.std(values_0)\n",
      "    mean_1, std_1 = np.mean(values_1), np.std(values_1)\n",
      "    \n",
      "    k = abs(mean_0 - mean_1) / (std_0 ** 2 + std_1 ** 2 + .0001)\n",
      "    \n",
      "    if k > k_filter_limit :\n",
      "        X_full_weighted[:,good_feature_n] = k * X_full[:,f_num]\n",
      "        good_feature_n += 1\n",
      "    \n",
      "        k_array.append(k)\n",
      "\n",
      "X_full_weighted = X_full_weighted[:,:good_feature_n]\n",
      "print X_full_weighted.shape, good_feature_n\n",
      "\n",
      "# Output \n",
      "print [\"%.2f\" % k for k in sorted(k_array, reverse = True)][:30]"
     ]
    },
    {
     "cell_type": "raw",
     "metadata": {},
     "source": [
      "from sklearn.tree import DecisionTreeClassifier\n",
      "\n",
      "count = len(y_train)\n",
      "\n",
      "tree = DecisionTreeClassifier(min_samples_split = 50, min_samples_leaf = 1, max_depth = 25, max_features = 50).fit(X_full[:count], y_train[:count])\n",
      "X_filtered_rude = tree.transform(X_full)\n",
      "\n",
      "print X_filtered_rude.shape"
     ]
    },
    {
     "cell_type": "raw",
     "metadata": {},
     "source": [
      "# http://scikit-learn.org/stable/auto_examples/plot_rfe_with_cross_validation.html#example-plot-rfe-with-cross-validation-py\n",
      "from sklearn.svm import SVC\n",
      "from sklearn.cross_validation import StratifiedKFold\n",
      "from sklearn.feature_selection import RFECV\n",
      "\n",
      "# Create the RFE object and compute a cross-validated score.\n",
      "count = len(y_train)\n",
      "svc = SVC(kernel=\"linear\")\n",
      "svc\n",
      "rfecv = RFECV(estimator = svc, step = 1, cv = StratifiedKFold(y_train[:count], 2), scoring='accuracy')\n",
      "rfecv.fit(X_full[:count], y_train[:count])\n",
      "\n",
      "print(\"Optimal number of features : %d\" % rfecv.n_features_)\n",
      "\n",
      "# Plot number of features VS. cross-validation scores\n",
      "import pylab as pl\n",
      "pl.figure()\n",
      "pl.xlabel(\"Number of features selected\")\n",
      "pl.ylabel(\"Cross validation score (nb of misclassifications)\")\n",
      "pl.plot(range(1, len(rfecv.grid_scores_) + 1), rfecv.grid_scores_)\n",
      "pl.show()"
     ]
    },
    {
     "cell_type": "raw",
     "metadata": {},
     "source": [
      "X_full_filtered = rfecv.transform(X_full)\n",
      "print X_full_filtered.shape\n",
      "\n",
      "svc.fit(X_full_filtered[:len(y_train)], y_train)\n",
      "\n",
      "for i, c in enumerate(svc.coef_) :\n",
      "  X_full_filtered[i] = abs(c) * X_full_filtered[i]"
     ]
    },
    {
     "cell_type": "raw",
     "metadata": {},
     "source": [
      "print sum(map(lambda x: abs(x) > 0.07, svc.coef_))\n"
     ]
    },
    {
     "cell_type": "raw",
     "metadata": {},
     "source": [
      "\u0412\u0430\u0436\u043d\u043e, \u043c\u044b \u0440\u0430\u0437\u0431\u0438\u0432\u0430\u0435\u043c \u043d\u0430\u0448\u0443 \u0432\u044b\u0431\u043e\u0440\u043a\u0443 \u043d\u0430 \u0434\u0432\u0430 \u043a\u0443\u0441\u043a\u0430. \u0422\u0443 \u043a\u043e\u0442\u043e\u0440\u0443\u044e \u0431\u0443\u0434\u0435\u043c \u0438\u0441\u043f\u043e\u043b\u044c\u0437\u043e\u0432\u0430\u0442\u044c \u043d\u0430 \u043f\u0435\u0440\u0432\u043e\u043c \u044d\u0442\u0430\u043f\u0435, \u0434\u043b\u044f \u043e\u0431\u0443\u0447\u0435\u043d\u0438\u044f \"\u0441\u044b\u0440\u044b\u0445\" \u043a\u043b\u0430\u0441\u0441\u0438\u0444\u0438\u043a\u0430\u0442\u043e\u0440\u043e\u0432 \u0438 \u0432\u044b\u0431\u043e\u0440\u043a\u0443 \u043a\u043e\u0442\u043e\u0440\u0430\u044f \u0431\u0443\u0434\u0435\u0442 \u0438\u0441\u043f\u043e\u043b\u044c\u0437\u043e\u0432\u0430\u0442\u044c\u0441\u044f \u0434\u043b\u044f \u043e\u0431\u0443\u0447\u0435\u043d\u0438\u044f \u0438\u0442\u043e\u0433\u043e\u0432\u043e\u0433\u043e \u043a\u043b\u0430\u0441\u0441\u0438\u0444\u0438\u043a\u0430\u0442\u043e\u0440\u0430 \u0441 \u0443\u0447\u0435\u0442\u043e\u043c \"\u0441\u044b\u0440\u044b\u0445\" \u043e\u0446\u0435\u043d\u043e\u043a.\n",
      "\u041e\u0431\u0440\u0430\u0442\u043d\u043e \u0440\u0430\u0437\u0431\u0438\u0432\u0430\u0435\u043c \u043d\u0430 train_raw, train_meta \u0438 test:"
     ]
    },
    {
     "cell_type": "code",
     "collapsed": false,
     "input": [
      "from sklearn.cross_validation import ShuffleSplit\n",
      "\n",
      "meta_part = 0.33\n",
      "\n",
      "X_train = X_full[:len(df_train), :]\n",
      "split_meta = list(ShuffleSplit(n = len(X_train), test_size = meta_part, n_iter = 1, random_state = 0, indices = False))[0]\n",
      "raw_indexes, meta_indexes = split_meta\n",
      "X_train_raw, X_train_meta, y_train_raw, y_train_meta = X_train[raw_indexes], X_train[meta_indexes], y_train[raw_indexes], y_train[meta_indexes]\n",
      "\n",
      "X_test = X_full[len(df_train):, :]\n",
      "print X_train.shape, y_train.shape, X_test.shape, \n",
      "print X_train_raw.shape, y_train_raw.shape, X_train_meta.shape, y_train_meta.shape,"
     ],
     "language": "python",
     "metadata": {},
     "outputs": [
      {
       "output_type": "stream",
       "stream": "stdout",
       "text": [
        "(10000, 39) (10000,) (4800, 39) (6700, 39) (6700,) (3300, 39) (3300,)\n"
       ]
      }
     ],
     "prompt_number": 7
    },
    {
     "cell_type": "raw",
     "metadata": {},
     "source": [
      "\u0414\u0430\u043d\u043d\u044b\u0435 \u043f\u043e\u0434\u0433\u043e\u0442\u043e\u0432\u043b\u0435\u043d\u044b \u0434\u043b\u044f \u0432\u0441\u0435\u0445 \u043a\u043b\u0430\u0441\u0441\u0438\u0444\u0438\u043a\u0430\u0442\u043e\u0440\u043e\u0432"
     ]
    },
    {
     "cell_type": "heading",
     "level": 2,
     "metadata": {},
     "source": [
      "A. \u041b\u043e\u0433\u0438\u0447\u0435\u0441\u043a\u0438\u0435 \u043f\u0440\u0430\u0432\u0438\u043b\u0430 \u0441\u043e\u0441\u0442\u0430\u0432\u043b\u0435\u043d\u043d\u044b\u0435 \u0432\u0440\u0443\u0447\u043d\u0443\u044e \u0438 \u043a\u043b\u0430\u0441\u0441\u0438\u0444\u0438\u043a\u0430\u0442\u043e\u0440 \u043d\u0430 \u0438\u0445 \u043e\u0441\u043d\u043e\u0432\u0430\u043d\u0438\u0438"
     ]
    },
    {
     "cell_type": "code",
     "collapsed": false,
     "input": [
      "def handmade_classifier(x) :\n",
      "    # Was made observing distributions and picking good features\n",
      "    poor = [\n",
      "        x['ACLSWKR'] in ['NeverWorked'],\n",
      "        2 * (x['AHGA'] in ['Children', 'Lessthan1stgrade', '9thgrade', 'First2nd3rdor4thgrade', '7thand8thgrade', '10thgrade']),\n",
      "        2 * (x['AHSCOL'] in ['Highschool', 'Collegeoruniversity']),\n",
      "        x['AMARITL'] in ['Married-AFspousepresent', 'Nevermarried'],\n",
      "        x['AMJIND'] in ['Privatehouseholdservices', 'Not_in_universeorchildren'] or\n",
      "        x['AMJOCC'] in ['Privatehouseholdservices', 'Not_in_universe', 'Otherservice', 'Handlersequipcleanersetc'],\n",
      "        x['ARACE'] in ['Other', 'AmerIndianAleutorEskimo', 'Black'],\n",
      "        x['AREORGN'] in ['Mexican(Mexicano)', 'CentralorSouthAmerican'],\n",
      "        x['ASEX'] in ['Female'],\n",
      "        x['AUNTYPE'] in ['Newentrant', 'Re-entrant'],\n",
      "        x['FILESTAT'] in ['Nonfiler'],\n",
      "        x['GRINST'] in ['Idaho', 'Ohio', 'Kansas'],\n",
      "        x['HHDREL'] in ['GroupQuarters-Secondaryindividual', 'Childunder18nevermarried', 'Otherrelativeofhouseholder', 'Child18orolder'],\n",
      "        x['MIGMTR1'] in ['Not_in_universe'] or \n",
      "        x['MIGMTR3'] in ['Not_in_universe'] or\n",
      "        x['MIGMTR4'] in ['Not_in_universe'] or\n",
      "        x['MIGSAME'] in ['Not_in_universeunder1yearold'],\n",
      "        \n",
      "        x['PARENT'] in ['Fatheronlypresent', 'Motheronlypresent', 'Neitherparentpresent', 'Bothparentspresent'],\n",
      "        x['PEFNTVTY'] in ['Honduras', 'Laos', 'Trinadad&Tobago', 'Guatemala'] or\n",
      "        x['PEMNTVTY'] in ['Cambodia', 'Honduras', 'Laos', 'Outlying-US(GuamUSVIetc)', 'Trinadad&Tobago', 'Guatemala'] or\n",
      "        x['PENATVTY'] in ['Cambodia', 'Honduras', 'Laos', 'Trinadad&Tobago', 'Yugoslavia'],\n",
      "        x['AAGE'] <= 25,\n",
      "    ]\n",
      "    \n",
      "    rich = [\n",
      "        x['ACLSWKR'] in ['FederalGovernment', 'Self-employed-incorporated'],\n",
      "        2 * (x['AHGA'] in ['Bachelorsdegree(BAABBS)', 'Mastersdegree(MAMSMEngMEdMSWMBA)', 'Doctoratedegree(PhDEdD)', 'Profschooldegree(MDDDSDVMLLBJD)']),\n",
      "        x['AMJIND'] in ['Manufacturing-durablegoods', 'Publicadministration', 'Financeinsuranceandrealestate', 'Mining', 'Communications', 'Utilitiesandsanitaryservices', 'Otherprofessionalservices', 'Forestryandfisheries', 'ArmedForces'],\n",
      "        x['AMJOCC'] in ['Sales', 'Protectiveservices', 'Professionalspecialty', 'Executiveadminandmanagerial', 'ArmedForces'],\n",
      "        x['HHDFMX'] in ['Householder'],\n",
      "        x['PEFNTVTY'] in ['England', 'Ireland', 'Japan', 'Iran'],\n",
      "        x['PEMNTVTY'] in ['India', 'Scotland', 'Japan', 'Iran'],\n",
      "        x['PENATVTY'] in ['England', 'India', 'Scotland', 'Japan', 'Ireland', 'Iran'],\n",
      "        2 * (x['CAPGAIN'] > 1000),\n",
      "        2 * (x['DIVVAL'] > 1000),\n",
      "        x['VETQVA'] == 2,\n",
      "        x['VETYN'] == 52,\n",
      "    ]\n",
      "   \n",
      "    return ([sum(poor), sum(rich)] + poor + rich)\n",
      "\n",
      "def decision_rule(poor_rich) :\n",
      "    poor, rich = poor_rich[:2]\n",
      "    \n",
      "    if rich > 4 :\n",
      "        return 1\n",
      "    elif rich - poor >= 3 :\n",
      "        return 1\n",
      "    else :\n",
      "        return 0"
     ],
     "language": "python",
     "metadata": {},
     "outputs": [],
     "prompt_number": 8
    },
    {
     "cell_type": "raw",
     "metadata": {},
     "source": [
      "\u0412\u044b\u0432\u043e\u0434 \u0440\u0435\u0437\u0443\u043b\u044c\u0442\u0430\u0442\u043e\u0432 \u043a\u043b\u0430\u0441\u0441\u0438\u0444\u0438\u043a\u0430\u0442\u043e\u0440\u0430 :"
     ]
    },
    {
     "cell_type": "code",
     "collapsed": false,
     "input": [
      "from sklearn.metrics import mean_absolute_error as MAE\n",
      "\n",
      "print 100 * MAE(y_train, map(decision_rule, [handmade_classifier(row) for index, row in df_train.iterrows()]))\n",
      "\n",
      "y_hand_predicted = map(decision_rule, [handmade_classifier(row) for index, row in df_test.iterrows()])\n",
      "\n",
      "train_hand_meta = [handmade_classifier(row) for index, row in df_train[meta_indexes].iterrows()]\n",
      "test_hand_meta = [handmade_classifier(row) for index, row in df_test.iterrows()]"
     ],
     "language": "python",
     "metadata": {},
     "outputs": [
      {
       "output_type": "stream",
       "stream": "stdout",
       "text": [
        "14.95\n"
       ]
      }
     ],
     "prompt_number": 9
    },
    {
     "cell_type": "code",
     "collapsed": false,
     "input": [
      "df_test['Prediction'] = y_hand_predicted\n",
      "df_test.loc[:, ['Id', 'Prediction']].to_csv('kaggle1/solutions/hand.csv', index=False)\n",
      "\n",
      "#Test result is 0.15521"
     ],
     "language": "python",
     "metadata": {},
     "outputs": [],
     "prompt_number": 10
    },
    {
     "cell_type": "heading",
     "level": 2,
     "metadata": {},
     "source": [
      "\u0411. kNN, \u043e\u0442\u0441\u0442\u0443\u043f\u044b \u0438 \u043f\u043e\u0434\u0431\u043e\u0440 \u043f\u0430\u0440\u0430\u043c\u0435\u0442\u0440\u043e\u0432"
     ]
    },
    {
     "cell_type": "code",
     "collapsed": false,
     "input": [
      "from sklearn.neighbors import KNeighborsClassifier as KNN\n",
      "from sklearn.cross_validation import train_test_split\n",
      "from sklearn.metrics import mean_absolute_error as MAE\n",
      "\n",
      "\n",
      "def try_classifier(data, classes, k = 3, p = 1, weights = 'uniform', remove_thrash = True) :\n",
      "    classifier = KNN(n_neighbors = k, weights = weights, p = p)\n",
      "    \n",
      "    def calc_margin(x, classifier, classes) :\n",
      "        indexes = classifier.kneighbors(x, k + 1)[1][0]    \n",
      "        all_neighbors = map(lambda x: classes[x], indexes)\n",
      "    \n",
      "        me = all_neighbors[0]\n",
      "        neighbors = all_neighbors[1:]\n",
      "        return sum([-1 + 2 * (me == x) for x in neighbors])\n",
      "    \n",
      "    def CVFitAndCalculateError(data, classes, classifier, k, remove_thrash = True) :\n",
      "        X_train, X_test, y_train, y_test = train_test_split(data, classes, test_size = 0.2)\n",
      "        classifier.fit(X_train, y_train)\n",
      "    \n",
      "        if remove_thrash :\n",
      "            margins = [calc_margin(x, classifier, y_train) for x in X_train]\n",
      "    \n",
      "            etalon = set([index for index, margin in enumerate(margins) if margin > -k])\n",
      "            X_train = [x for index, x in enumerate(X_train) if index in etalon]\n",
      "            y_train = [y for index, y in enumerate(y_train) if index in etalon]\n",
      "            classifier.fit(X_train, y_train)\n",
      "    \n",
      "        prediction_test = classifier.predict(X_test)\n",
      "        mae = 100 * MAE(y_test, map(lambda x: int(x > 0.5), prediction_test))\n",
      "        #print '>> Fold mae: %.2f' % (mae)\n",
      "        return mae \n",
      "    \n",
      "    return average([\n",
      "        CVFitAndCalculateError(data = data, classes = classes, classifier = classifier, k = k, remove_thrash = remove_thrash) \n",
      "        for n in range(30)\n",
      "    ])\n",
      "\n",
      "k_variants = [7, 15, 25]\n",
      "p_variants = [1, 2]\n",
      "weights_variants = ['uniform', 'distance']\n",
      "remove_thrash_variants = ['False']\n",
      "\n",
      "variants = []\n",
      "for k in k_variants :\n",
      "    for p in p_variants :\n",
      "        for weights in weights_variants :\n",
      "            for remove_thrash in remove_thrash_variants :\n",
      "                variants.append((k, p, weights, remove_thrash))\n",
      "                \n",
      "from random import shuffle\n",
      "shuffle(variants)\n",
      "\n",
      "# Brute-force search through limited variants count and part of train_set :\n",
      "results = []\n",
      "print 'Variants count: %d' % (len(variants))\n",
      "for v in variants :\n",
      "    k, p, weights, remove_thrash = v\n",
      "    mae = try_classifier(X_train_raw[:500], y_train_raw[:500], k = k, p = p, weights = weights, remove_thrash = remove_thrash)\n",
      "    results.append((mae, v))\n",
      "    print '%.2f, k = %d, p = %d, weights = %s, remove_thrash = %r' % (mae, k, p, weights, remove_thrash)\n",
      "\n",
      "results.sort()\n",
      "print results[:5]"
     ],
     "language": "python",
     "metadata": {},
     "outputs": [
      {
       "output_type": "stream",
       "stream": "stdout",
       "text": [
        "Variants count: 12\n",
        "22.17, k = 25, p = 2, weights = uniform, remove_thrash = 'False'"
       ]
      },
      {
       "output_type": "stream",
       "stream": "stdout",
       "text": [
        "\n",
        "21.30, k = 15, p = 1, weights = distance, remove_thrash = 'False'"
       ]
      },
      {
       "output_type": "stream",
       "stream": "stdout",
       "text": [
        "\n",
        "24.90, k = 7, p = 2, weights = uniform, remove_thrash = 'False'"
       ]
      },
      {
       "output_type": "stream",
       "stream": "stdout",
       "text": [
        "\n",
        "23.10, k = 25, p = 2, weights = distance, remove_thrash = 'False'"
       ]
      },
      {
       "output_type": "stream",
       "stream": "stdout",
       "text": [
        "\n",
        "22.30, k = 25, p = 1, weights = distance, remove_thrash = 'False'"
       ]
      },
      {
       "output_type": "stream",
       "stream": "stdout",
       "text": [
        "\n",
        "25.17, k = 7, p = 2, weights = distance, remove_thrash = 'False'"
       ]
      },
      {
       "output_type": "stream",
       "stream": "stdout",
       "text": [
        "\n",
        "24.10, k = 15, p = 2, weights = distance, remove_thrash = 'False'"
       ]
      },
      {
       "output_type": "stream",
       "stream": "stdout",
       "text": [
        "\n",
        "22.77, k = 7, p = 1, weights = distance, remove_thrash = 'False'"
       ]
      },
      {
       "output_type": "stream",
       "stream": "stdout",
       "text": [
        "\n",
        "20.90, k = 15, p = 1, weights = uniform, remove_thrash = 'False'"
       ]
      },
      {
       "output_type": "stream",
       "stream": "stdout",
       "text": [
        "\n",
        "24.87, k = 15, p = 2, weights = uniform, remove_thrash = 'False'"
       ]
      },
      {
       "output_type": "stream",
       "stream": "stdout",
       "text": [
        "\n",
        "23.17, k = 7, p = 1, weights = uniform, remove_thrash = 'False'"
       ]
      },
      {
       "output_type": "stream",
       "stream": "stdout",
       "text": [
        "\n",
        "20.27, k = 25, p = 1, weights = uniform, remove_thrash = 'False'"
       ]
      },
      {
       "output_type": "stream",
       "stream": "stdout",
       "text": [
        "\n",
        "[(20.266666666666666, (25, 1, 'uniform', 'False')), (20.899999999999999, (15, 1, 'uniform', 'False')), (21.300000000000001, (15, 1, 'distance', 'False')), (22.166666666666668, (25, 2, 'uniform', 'False')), (22.300000000000001, (25, 1, 'distance', 'False'))]\n"
       ]
      }
     ],
     "prompt_number": 11
    },
    {
     "cell_type": "raw",
     "metadata": {},
     "source": [
      "\u0418\u0442\u043e\u0433\u043e \u043b\u0443\u0447\u0448\u0438\u0435 \u043f\u0430\u0440\u0430\u043c\u0435\u0442\u0440\u044b: k = 25, p = 1, weights = 'uniform', remove_thrash = False"
     ]
    },
    {
     "cell_type": "code",
     "collapsed": false,
     "input": [
      "from sklearn.neighbors import KNeighborsClassifier as KNN\n",
      "\n",
      "classifier_knn = KNN(n_neighbors = 25, weights = 'uniform', p = 1)\n",
      "\n",
      "classifier_knn.fit(X_train, y_train)\n",
      "y_knn_predicted = map(lambda x: int(x >= 0.5), classifier_knn.predict_proba(X_test)[:, 1])\n",
      "\n",
      "classifier_knn.fit(X_train_raw, y_train_raw)\n",
      "train_knn_meta = classifier_knn.predict_proba(X_train_meta)[:, 1]\n",
      "test_knn_meta = classifier_knn.predict_proba(X_test)[:, 1]"
     ],
     "language": "python",
     "metadata": {},
     "outputs": [],
     "prompt_number": 12
    },
    {
     "cell_type": "code",
     "collapsed": false,
     "input": [
      "df_test['Prediction'] = y_knn_predicted\n",
      "df_test.loc[:, ['Id', 'Prediction']].to_csv('kaggle1/solutions/knn.csv', index=False)\n",
      "\n",
      "#Test result ?"
     ],
     "language": "python",
     "metadata": {},
     "outputs": [],
     "prompt_number": 13
    },
    {
     "cell_type": "heading",
     "level": 2,
     "metadata": {},
     "source": [
      "\u0412. \u041b\u0435\u0441 \u0440\u0435\u0448\u0430\u044e\u0449\u0438\u0445 \u0434\u0435\u0440\u0435\u0432\u044c\u0435\u0432 \u0440\u0435\u0448\u0435\u043d\u0438\u0439 \u0438 \u043f\u043e\u0434\u0431\u043e\u0440 \u043f\u0430\u0440\u0430\u043c\u0435\u0442\u0440\u043e\u0432"
     ]
    },
    {
     "cell_type": "code",
     "collapsed": false,
     "input": [
      "from sklearn.tree import DecisionTreeClassifier\n",
      "from sklearn.cross_validation import cross_val_score\n",
      "from sklearn.ensemble import RandomForestClassifier\n",
      "\n",
      "n_estimators_variants = [25, 39, 53]\n",
      "min_samples_split_variants = [30, 80, 130]\n",
      "min_samples_leaf_variants = [1, 5, 11]\n",
      "max_depth_variants = [10, 25, 40]\n",
      "\n",
      "variants = []\n",
      "for n in n_estimators_variants :\n",
      "    for split in min_samples_split_variants :\n",
      "        for leaf in min_samples_leaf_variants :\n",
      "            for depth in max_depth_variants :\n",
      "                variants.append((n, split, leaf, depth))\n",
      "                \n",
      "from random import shuffle\n",
      "shuffle(variants)\n",
      "\n",
      "def try_classifier(data, classes, n, split, lead, depth) :\n",
      "    classifier = RandomForestClassifier(n_estimators = n, min_samples_split = split, min_samples_leaf = leaf, max_depth = depth)\n",
      "    \n",
      "    return 100 * (1.0 - average(cross_val_score(classifier, data, classes, cv = 10, n_jobs = -1)))\n",
      "    \n",
      "# Brute-force search through limited variants:\n",
      "results = []\n",
      "print 'Variants count: %d' % (len(variants))\n",
      "for v in variants :\n",
      "    n, split, leaf, depth = v\n",
      "    \n",
      "    mae = try_classifier(X_train_raw, y_train_raw, n, split, leaf, depth)\n",
      "    results.append((mae, v))\n",
      "    print '%.3f, n = %d, split = %d, leaf = %s, depth = %r' % (mae, n, split, leaf, depth)\n",
      "\n",
      "results.sort()\n",
      "print results[:5]"
     ],
     "language": "python",
     "metadata": {},
     "outputs": [
      {
       "output_type": "stream",
       "stream": "stdout",
       "text": [
        "Variants count: 81\n"
       ]
      },
      {
       "output_type": "stream",
       "stream": "stdout",
       "text": [
        "13.567, n = 39, split = 80, leaf = 5, depth = 40\n"
       ]
      },
      {
       "output_type": "stream",
       "stream": "stdout",
       "text": [
        "14.194, n = 39, split = 130, leaf = 5, depth = 10\n"
       ]
      },
      {
       "output_type": "stream",
       "stream": "stdout",
       "text": [
        "14.104, n = 25, split = 30, leaf = 11, depth = 40\n"
       ]
      },
      {
       "output_type": "stream",
       "stream": "stdout",
       "text": [
        "13.746, n = 53, split = 80, leaf = 1, depth = 25\n"
       ]
      },
      {
       "output_type": "stream",
       "stream": "stdout",
       "text": [
        "13.910, n = 53, split = 80, leaf = 11, depth = 25\n"
       ]
      },
      {
       "output_type": "stream",
       "stream": "stdout",
       "text": [
        "13.761, n = 53, split = 130, leaf = 1, depth = 10\n"
       ]
      },
      {
       "output_type": "stream",
       "stream": "stdout",
       "text": [
        "14.045, n = 25, split = 130, leaf = 5, depth = 40\n"
       ]
      },
      {
       "output_type": "stream",
       "stream": "stdout",
       "text": [
        "14.000, n = 39, split = 130, leaf = 5, depth = 40\n"
       ]
      },
      {
       "output_type": "stream",
       "stream": "stdout",
       "text": [
        "14.104, n = 25, split = 130, leaf = 11, depth = 25\n"
       ]
      },
      {
       "output_type": "stream",
       "stream": "stdout",
       "text": [
        "13.925, n = 39, split = 130, leaf = 11, depth = 25\n"
       ]
      },
      {
       "output_type": "stream",
       "stream": "stdout",
       "text": [
        "13.507, n = 53, split = 30, leaf = 1, depth = 40\n"
       ]
      },
      {
       "output_type": "stream",
       "stream": "stdout",
       "text": [
        "13.955, n = 53, split = 130, leaf = 5, depth = 40\n"
       ]
      },
      {
       "output_type": "stream",
       "stream": "stdout",
       "text": [
        "13.851, n = 25, split = 30, leaf = 1, depth = 40\n"
       ]
      },
      {
       "output_type": "stream",
       "stream": "stdout",
       "text": [
        "13.985, n = 25, split = 130, leaf = 1, depth = 10\n"
       ]
      },
      {
       "output_type": "stream",
       "stream": "stdout",
       "text": [
        "13.552, n = 53, split = 30, leaf = 5, depth = 25\n"
       ]
      },
      {
       "output_type": "stream",
       "stream": "stdout",
       "text": [
        "13.776, n = 39, split = 30, leaf = 5, depth = 40\n"
       ]
      },
      {
       "output_type": "stream",
       "stream": "stdout",
       "text": [
        "14.060, n = 39, split = 130, leaf = 11, depth = 10\n"
       ]
      },
      {
       "output_type": "stream",
       "stream": "stdout",
       "text": [
        "13.791, n = 39, split = 80, leaf = 11, depth = 40\n"
       ]
      },
      {
       "output_type": "stream",
       "stream": "stdout",
       "text": [
        "13.776, n = 53, split = 30, leaf = 11, depth = 40\n"
       ]
      },
      {
       "output_type": "stream",
       "stream": "stdout",
       "text": [
        "13.687, n = 39, split = 80, leaf = 1, depth = 40\n"
       ]
      },
      {
       "output_type": "stream",
       "stream": "stdout",
       "text": [
        "14.149, n = 25, split = 130, leaf = 5, depth = 10\n"
       ]
      },
      {
       "output_type": "stream",
       "stream": "stdout",
       "text": [
        "13.776, n = 39, split = 130, leaf = 1, depth = 25\n"
       ]
      },
      {
       "output_type": "stream",
       "stream": "stdout",
       "text": [
        "14.343, n = 25, split = 130, leaf = 11, depth = 10\n"
       ]
      },
      {
       "output_type": "stream",
       "stream": "stdout",
       "text": [
        "13.881, n = 25, split = 30, leaf = 5, depth = 40\n"
       ]
      },
      {
       "output_type": "stream",
       "stream": "stdout",
       "text": [
        "13.925, n = 25, split = 80, leaf = 11, depth = 40\n"
       ]
      },
      {
       "output_type": "stream",
       "stream": "stdout",
       "text": [
        "13.776, n = 53, split = 80, leaf = 5, depth = 10\n"
       ]
      },
      {
       "output_type": "stream",
       "stream": "stdout",
       "text": [
        "13.597, n = 53, split = 80, leaf = 5, depth = 40\n"
       ]
      },
      {
       "output_type": "stream",
       "stream": "stdout",
       "text": [
        "13.612, n = 39, split = 30, leaf = 1, depth = 25\n"
       ]
      },
      {
       "output_type": "stream",
       "stream": "stdout",
       "text": [
        "13.836, n = 39, split = 30, leaf = 11, depth = 25\n"
       ]
      },
      {
       "output_type": "stream",
       "stream": "stdout",
       "text": [
        "13.761, n = 53, split = 130, leaf = 1, depth = 40\n"
       ]
      },
      {
       "output_type": "stream",
       "stream": "stdout",
       "text": [
        "13.910, n = 25, split = 80, leaf = 5, depth = 40\n"
       ]
      },
      {
       "output_type": "stream",
       "stream": "stdout",
       "text": [
        "13.791, n = 39, split = 80, leaf = 5, depth = 10\n"
       ]
      },
      {
       "output_type": "stream",
       "stream": "stdout",
       "text": [
        "13.836, n = 53, split = 130, leaf = 11, depth = 25\n"
       ]
      },
      {
       "output_type": "stream",
       "stream": "stdout",
       "text": [
        "14.000, n = 39, split = 130, leaf = 5, depth = 25\n"
       ]
      },
      {
       "output_type": "stream",
       "stream": "stdout",
       "text": [
        "13.806, n = 39, split = 130, leaf = 1, depth = 10\n"
       ]
      },
      {
       "output_type": "stream",
       "stream": "stdout",
       "text": [
        "13.910, n = 39, split = 80, leaf = 11, depth = 10\n"
       ]
      },
      {
       "output_type": "stream",
       "stream": "stdout",
       "text": [
        "13.925, n = 39, split = 130, leaf = 11, depth = 40\n"
       ]
      },
      {
       "output_type": "stream",
       "stream": "stdout",
       "text": [
        "14.164, n = 25, split = 130, leaf = 1, depth = 25\n"
       ]
      },
      {
       "output_type": "stream",
       "stream": "stdout",
       "text": [
        "13.537, n = 25, split = 30, leaf = 1, depth = 25\n"
       ]
      },
      {
       "output_type": "stream",
       "stream": "stdout",
       "text": [
        "14.104, n = 25, split = 30, leaf = 11, depth = 25\n"
       ]
      },
      {
       "output_type": "stream",
       "stream": "stdout",
       "text": [
        "13.985, n = 25, split = 80, leaf = 5, depth = 10\n"
       ]
      },
      {
       "output_type": "stream",
       "stream": "stdout",
       "text": [
        "13.716, n = 25, split = 80, leaf = 1, depth = 25\n"
       ]
      },
      {
       "output_type": "stream",
       "stream": "stdout",
       "text": [
        "13.687, n = 25, split = 80, leaf = 1, depth = 40\n"
       ]
      },
      {
       "output_type": "stream",
       "stream": "stdout",
       "text": [
        "14.388, n = 25, split = 80, leaf = 11, depth = 10\n"
       ]
      },
      {
       "output_type": "stream",
       "stream": "stdout",
       "text": [
        "13.881, n = 39, split = 80, leaf = 1, depth = 10\n"
       ]
      },
      {
       "output_type": "stream",
       "stream": "stdout",
       "text": [
        "13.925, n = 25, split = 30, leaf = 1, depth = 10\n"
       ]
      },
      {
       "output_type": "stream",
       "stream": "stdout",
       "text": [
        "14.194, n = 53, split = 130, leaf = 11, depth = 10\n"
       ]
      },
      {
       "output_type": "stream",
       "stream": "stdout",
       "text": [
        "13.761, n = 53, split = 30, leaf = 11, depth = 25\n"
       ]
      },
      {
       "output_type": "stream",
       "stream": "stdout",
       "text": [
        "13.896, n = 25, split = 30, leaf = 5, depth = 25\n"
       ]
      },
      {
       "output_type": "stream",
       "stream": "stdout",
       "text": [
        "13.985, n = 39, split = 30, leaf = 5, depth = 10\n"
       ]
      },
      {
       "output_type": "stream",
       "stream": "stdout",
       "text": [
        "13.925, n = 25, split = 80, leaf = 11, depth = 25\n"
       ]
      },
      {
       "output_type": "stream",
       "stream": "stdout",
       "text": [
        "13.836, n = 53, split = 30, leaf = 11, depth = 10\n"
       ]
      },
      {
       "output_type": "stream",
       "stream": "stdout",
       "text": [
        "14.104, n = 25, split = 130, leaf = 11, depth = 40\n"
       ]
      },
      {
       "output_type": "stream",
       "stream": "stdout",
       "text": [
        "13.866, n = 39, split = 30, leaf = 1, depth = 40\n"
       ]
      },
      {
       "output_type": "stream",
       "stream": "stdout",
       "text": [
        "13.896, n = 53, split = 80, leaf = 1, depth = 10\n"
       ]
      },
      {
       "output_type": "stream",
       "stream": "stdout",
       "text": [
        "13.836, n = 39, split = 30, leaf = 11, depth = 40\n"
       ]
      },
      {
       "output_type": "stream",
       "stream": "stdout",
       "text": [
        "13.358, n = 53, split = 30, leaf = 1, depth = 25\n"
       ]
      },
      {
       "output_type": "stream",
       "stream": "stdout",
       "text": [
        "13.836, n = 39, split = 30, leaf = 5, depth = 25\n"
       ]
      },
      {
       "output_type": "stream",
       "stream": "stdout",
       "text": [
        "13.776, n = 39, split = 80, leaf = 1, depth = 25\n"
       ]
      },
      {
       "output_type": "stream",
       "stream": "stdout",
       "text": [
        "13.761, n = 53, split = 130, leaf = 1, depth = 25\n"
       ]
      },
      {
       "output_type": "stream",
       "stream": "stdout",
       "text": [
        "13.791, n = 39, split = 80, leaf = 11, depth = 25\n"
       ]
      },
      {
       "output_type": "stream",
       "stream": "stdout",
       "text": [
        "13.776, n = 39, split = 130, leaf = 1, depth = 40\n"
       ]
      },
      {
       "output_type": "stream",
       "stream": "stdout",
       "text": [
        "13.836, n = 53, split = 130, leaf = 11, depth = 40\n"
       ]
      },
      {
       "output_type": "stream",
       "stream": "stdout",
       "text": [
        "13.731, n = 53, split = 80, leaf = 1, depth = 40\n"
       ]
      },
      {
       "output_type": "stream",
       "stream": "stdout",
       "text": [
        "14.000, n = 53, split = 130, leaf = 5, depth = 10\n"
       ]
      },
      {
       "output_type": "stream",
       "stream": "stdout",
       "text": [
        "13.910, n = 39, split = 30, leaf = 11, depth = 10\n"
       ]
      },
      {
       "output_type": "stream",
       "stream": "stdout",
       "text": [
        "13.836, n = 53, split = 30, leaf = 5, depth = 10\n"
       ]
      },
      {
       "output_type": "stream",
       "stream": "stdout",
       "text": [
        "13.910, n = 53, split = 80, leaf = 11, depth = 40\n"
       ]
      },
      {
       "output_type": "stream",
       "stream": "stdout",
       "text": [
        "14.045, n = 25, split = 130, leaf = 5, depth = 25\n"
       ]
      },
      {
       "output_type": "stream",
       "stream": "stdout",
       "text": [
        "13.955, n = 53, split = 130, leaf = 5, depth = 25\n"
       ]
      },
      {
       "output_type": "stream",
       "stream": "stdout",
       "text": [
        "13.910, n = 25, split = 80, leaf = 5, depth = 25\n"
       ]
      },
      {
       "output_type": "stream",
       "stream": "stdout",
       "text": [
        "13.970, n = 25, split = 30, leaf = 11, depth = 10\n"
       ]
      },
      {
       "output_type": "stream",
       "stream": "stdout",
       "text": [
        "13.597, n = 53, split = 80, leaf = 5, depth = 25\n"
       ]
      },
      {
       "output_type": "stream",
       "stream": "stdout",
       "text": [
        "13.836, n = 53, split = 80, leaf = 11, depth = 10\n"
       ]
      },
      {
       "output_type": "stream",
       "stream": "stdout",
       "text": [
        "14.104, n = 25, split = 80, leaf = 1, depth = 10\n"
       ]
      },
      {
       "output_type": "stream",
       "stream": "stdout",
       "text": [
        "13.955, n = 39, split = 30, leaf = 1, depth = 10\n"
       ]
      },
      {
       "output_type": "stream",
       "stream": "stdout",
       "text": [
        "14.299, n = 25, split = 30, leaf = 5, depth = 10\n"
       ]
      },
      {
       "output_type": "stream",
       "stream": "stdout",
       "text": [
        "13.522, n = 53, split = 30, leaf = 5, depth = 40\n"
       ]
      },
      {
       "output_type": "stream",
       "stream": "stdout",
       "text": [
        "13.567, n = 39, split = 80, leaf = 5, depth = 25\n"
       ]
      },
      {
       "output_type": "stream",
       "stream": "stdout",
       "text": [
        "14.164, n = 25, split = 130, leaf = 1, depth = 40\n"
       ]
      },
      {
       "output_type": "stream",
       "stream": "stdout",
       "text": [
        "13.910, n = 53, split = 30, leaf = 1, depth = 10\n",
        "[(13.358208955223883, (53, 30, 1, 25)), (13.507462686567173, (53, 30, 1, 40)), (13.522388059701495, (53, 30, 5, 40)), (13.537313432835829, (25, 30, 1, 25)), (13.552238805970141, (53, 30, 5, 25))]\n"
       ]
      }
     ],
     "prompt_number": 14
    },
    {
     "cell_type": "raw",
     "metadata": {},
     "source": [
      "\u0418\u0442\u043e\u0433\u043e \u043b\u0443\u0447\u0448\u0438\u0435 \u043f\u0430\u0440\u0430\u043c\u0435\u0442\u0440\u044b: n = 53, split = 30, leaf = 1, depth = 25"
     ]
    },
    {
     "cell_type": "code",
     "collapsed": false,
     "input": [
      "from sklearn.ensemble import RandomForestClassifier\n",
      "\n",
      "classifier_rf = RandomForestClassifier(n_estimators = 53, min_samples_split = 30, min_samples_leaf = 1, max_depth = 25)\n",
      "classifier_rf.fit(X_train, y_train)\n",
      "\n",
      "def form_answer_from_mark(x) :\n",
      "    if abs(x - 0.5) < 0.01 :\n",
      "        return 0.5\n",
      "    else :\n",
      "        return int(x > 0.5)\n",
      "\n",
      "def unclear_answer(x) :\n",
      "    return abs(x - 0.5) <= 0.1\n",
      "\n",
      "def certain_answer(x) :\n",
      "    return abs(x - 0.5) > 0.25\n",
      "\n",
      "\n",
      "y_rf_predicted = map(form_answer_from_mark, classifier_rf.predict_proba(X_test)[:, 1])\n",
      "#unclear = map(unclear_unswer, classifier_rf.predict_proba(X_train)[:, 1])\n",
      "#certain = map(certain_answer, classifier_rf.predict_proba(X_train[5000:])[:, 1])\n",
      "#print sum(certain)\n",
      "#y_rf_train_predicted = map(form_answer_from_mark, classifier_rf.predict_proba(X_train[5000:])[certain, 1])\n",
      "#y_rf_train_class = y_train[certain]\n",
      "#print 100* MAE(y_rf_train_class, y_rf_train_predicted)\n",
      "\n",
      "classifier_rf.fit(X_train_raw, y_train_raw)\n",
      "train_rf_meta = classifier_rf.predict_proba(X_train_meta)[:, 1]\n",
      "test_rf_meta = classifier_rf.predict_proba(X_test)[:, 1]"
     ],
     "language": "python",
     "metadata": {},
     "outputs": [],
     "prompt_number": 15
    },
    {
     "cell_type": "code",
     "collapsed": false,
     "input": [
      "df_test['Prediction'] = y_rf_predicted\n",
      "df_test.loc[:, ['Id', 'Prediction']].to_csv('kaggle1/solutions/rf.csv', index=False)\n",
      "\n",
      "#Test result ?"
     ],
     "language": "python",
     "metadata": {},
     "outputs": [],
     "prompt_number": 16
    },
    {
     "cell_type": "heading",
     "level": 2,
     "metadata": {},
     "source": [
      "\u0413) \u041b\u0438\u043d\u0435\u0439\u043d\u0430\u044f \u0440\u0435\u0433\u0440\u0435\u0441\u0441\u0438\u044f"
     ]
    },
    {
     "cell_type": "code",
     "collapsed": false,
     "input": [
      "# http://scikit-learn.org/stable/auto_examples/linear_model/plot_ols.html\n",
      "from sklearn import linear_model\n",
      "\n",
      "regr = linear_model.LinearRegression()\n",
      "regr.fit(X_train, y_train)\n",
      "\n",
      "y_regr_predicted = map(form_answer_from_mark, regr.predict(X_test))\n",
      "\n",
      "regr.fit(X_train_raw, y_train_raw)\n",
      "train_regr_meta = regr.predict(X_train_meta)\n",
      "test_regr_meta = regr.predict(X_test)"
     ],
     "language": "python",
     "metadata": {},
     "outputs": [],
     "prompt_number": 17
    },
    {
     "cell_type": "code",
     "collapsed": false,
     "input": [
      "df_test['Prediction'] = y_regr_predicted\n",
      "df_test.loc[:, ['Id', 'Prediction']].to_csv('kaggle1/solutions/regr.csv', index=False)\n",
      "\n",
      "#Test result 0.165"
     ],
     "language": "python",
     "metadata": {},
     "outputs": [],
     "prompt_number": 18
    },
    {
     "cell_type": "heading",
     "level": 2,
     "metadata": {},
     "source": [
      "\u042f) \u0418\u0441\u043f\u043e\u043b\u044c\u0437\u0443\u0435\u043c \u0434\u0430\u043d\u043d\u044b\u0435 \u0432\u0441\u0435\u0445 \u0430\u043b\u0433\u043e\u0440\u0438\u0442\u043c\u043e\u0432\n",
      "\n"
     ]
    },
    {
     "cell_type": "code",
     "collapsed": false,
     "input": [
      "def add_meta(data, hand, knn, rf, regr) :\n",
      "    print map(len, [data, hand, knn, rf, regr])\n",
      "    return np.hstack([\n",
      "        data, \n",
      "        np.array(map(lambda x: x[0], hand)).reshape(len(data), 1),\n",
      "        np.array(map(lambda x: x[1], hand)).reshape(len(data), 1),\n",
      "        np.array(knn).reshape(len(data), 1),\n",
      "        np.array(rf).reshape(len(data), 1),\n",
      "        np.array(regr).reshape(len(data), 1),\n",
      "    ])\n",
      "\n",
      "X_train_meta_add = add_meta(X_train_meta, train_hand_meta, train_knn_meta, train_rf_meta, train_regr_meta)\n",
      "X_test_meta_add = add_meta(X_test, test_hand_meta, test_knn_meta, test_rf_meta, test_regr_meta)\n",
      "\n",
      "print X_train_meta_add.shape\n",
      "print X_test_meta_add.shape"
     ],
     "language": "python",
     "metadata": {},
     "outputs": [
      {
       "output_type": "stream",
       "stream": "stdout",
       "text": [
        "[3300, 3300, 3300, 3300, 3300]\n",
        "[4800, 4800, 4800, 4800, 4800]\n",
        "(3300, 44)\n",
        "(4800, 44)\n"
       ]
      }
     ],
     "prompt_number": 20
    },
    {
     "cell_type": "code",
     "collapsed": false,
     "input": [
      "from sklearn.cross_validation import cross_val_score\n",
      "from sklearn.ensemble import RandomForestClassifier\n",
      "\n",
      "n_estimators_variants = [17, 25, 39]\n",
      "min_samples_split_variants = [70, 100, 130]\n",
      "min_samples_leaf_variants = [1, 5, 8]\n",
      "max_depth_variants = [15, 25, 35]\n",
      "\n",
      "variants = []\n",
      "for n in n_estimators_variants :\n",
      "    for split in min_samples_split_variants :\n",
      "        for leaf in min_samples_leaf_variants :\n",
      "            for depth in max_depth_variants :\n",
      "                variants.append((n, split, leaf, depth))\n",
      "                \n",
      "from random import shuffle\n",
      "shuffle(variants)\n",
      "\n",
      "def try_classifier(data, classes, n, split, lead, depth) :\n",
      "    classifier = RandomForestClassifier(max_features = 5, criterion = 'entropy', n_estimators = n, min_samples_split = split, min_samples_leaf = leaf, max_depth = depth)\n",
      "    \n",
      "    return 100 * (1.0 - average(cross_val_score(classifier, data, classes, cv = 30, n_jobs = -1)))\n",
      "    \n",
      "# Brute-force search through limited variants:\n",
      "results = []\n",
      "print 'Variants count: %d' % (len(variants))\n",
      "for v in variants :\n",
      "    n, split, leaf, depth = v\n",
      "    \n",
      "    mae = try_classifier(X_train_meta_add, y_train_meta, n, split, leaf, depth)\n",
      "    results.append((mae, v))\n",
      "    print '%.3f, n = %d, split = %d, leaf = %s, depth = %r' % (mae, n, split, leaf, depth)"
     ],
     "language": "python",
     "metadata": {},
     "outputs": [
      {
       "output_type": "stream",
       "stream": "stdout",
       "text": [
        "Variants count: 81\n"
       ]
      },
      {
       "output_type": "stream",
       "stream": "stdout",
       "text": [
        "12.909, n = 39, split = 130, leaf = 8, depth = 15\n"
       ]
      },
      {
       "output_type": "stream",
       "stream": "stdout",
       "text": [
        "12.788, n = 25, split = 70, leaf = 5, depth = 35\n"
       ]
      },
      {
       "output_type": "stream",
       "stream": "stdout",
       "text": [
        "12.576, n = 25, split = 70, leaf = 1, depth = 15\n"
       ]
      },
      {
       "output_type": "stream",
       "stream": "stdout",
       "text": [
        "12.879, n = 39, split = 70, leaf = 8, depth = 35\n"
       ]
      },
      {
       "output_type": "stream",
       "stream": "stdout",
       "text": [
        "12.818, n = 25, split = 130, leaf = 1, depth = 25\n"
       ]
      },
      {
       "output_type": "stream",
       "stream": "stdout",
       "text": [
        "12.909, n = 25, split = 100, leaf = 5, depth = 25\n"
       ]
      },
      {
       "output_type": "stream",
       "stream": "stdout",
       "text": [
        "12.909, n = 25, split = 130, leaf = 8, depth = 15\n"
       ]
      },
      {
       "output_type": "stream",
       "stream": "stdout",
       "text": [
        "13.242, n = 17, split = 130, leaf = 1, depth = 35\n"
       ]
      },
      {
       "output_type": "stream",
       "stream": "stdout",
       "text": [
        "12.788, n = 25, split = 100, leaf = 8, depth = 25\n"
       ]
      },
      {
       "output_type": "stream",
       "stream": "stdout",
       "text": [
        "12.909, n = 17, split = 70, leaf = 5, depth = 35\n"
       ]
      },
      {
       "output_type": "stream",
       "stream": "stdout",
       "text": [
        "12.970, n = 39, split = 130, leaf = 5, depth = 35\n"
       ]
      },
      {
       "output_type": "stream",
       "stream": "stdout",
       "text": [
        "13.242, n = 17, split = 130, leaf = 5, depth = 25\n"
       ]
      },
      {
       "output_type": "stream",
       "stream": "stdout",
       "text": [
        "13.182, n = 39, split = 100, leaf = 5, depth = 35\n"
       ]
      },
      {
       "output_type": "stream",
       "stream": "stdout",
       "text": [
        "13.152, n = 39, split = 70, leaf = 1, depth = 35\n"
       ]
      },
      {
       "output_type": "stream",
       "stream": "stdout",
       "text": [
        "12.970, n = 39, split = 100, leaf = 8, depth = 15\n"
       ]
      },
      {
       "output_type": "stream",
       "stream": "stdout",
       "text": [
        "13.121, n = 39, split = 70, leaf = 5, depth = 25\n"
       ]
      },
      {
       "output_type": "stream",
       "stream": "stdout",
       "text": [
        "13.242, n = 17, split = 130, leaf = 1, depth = 15\n"
       ]
      },
      {
       "output_type": "stream",
       "stream": "stdout",
       "text": [
        "12.818, n = 25, split = 130, leaf = 1, depth = 35\n"
       ]
      },
      {
       "output_type": "stream",
       "stream": "stdout",
       "text": [
        "12.909, n = 39, split = 130, leaf = 8, depth = 35\n"
       ]
      },
      {
       "output_type": "stream",
       "stream": "stdout",
       "text": [
        "13.242, n = 17, split = 100, leaf = 1, depth = 15\n"
       ]
      },
      {
       "output_type": "stream",
       "stream": "stdout",
       "text": [
        "12.788, n = 25, split = 70, leaf = 5, depth = 25\n"
       ]
      },
      {
       "output_type": "stream",
       "stream": "stdout",
       "text": [
        "12.909, n = 39, split = 70, leaf = 8, depth = 15\n"
       ]
      },
      {
       "output_type": "stream",
       "stream": "stdout",
       "text": [
        "12.515, n = 25, split = 70, leaf = 1, depth = 35\n"
       ]
      },
      {
       "output_type": "stream",
       "stream": "stdout",
       "text": [
        "12.939, n = 17, split = 70, leaf = 8, depth = 35\n"
       ]
      },
      {
       "output_type": "stream",
       "stream": "stdout",
       "text": [
        "13.182, n = 17, split = 130, leaf = 8, depth = 35\n"
       ]
      },
      {
       "output_type": "stream",
       "stream": "stdout",
       "text": [
        "13.242, n = 17, split = 130, leaf = 1, depth = 25\n"
       ]
      },
      {
       "output_type": "stream",
       "stream": "stdout",
       "text": [
        "12.909, n = 25, split = 130, leaf = 8, depth = 35\n"
       ]
      },
      {
       "output_type": "stream",
       "stream": "stdout",
       "text": [
        "12.727, n = 39, split = 100, leaf = 1, depth = 25\n"
       ]
      },
      {
       "output_type": "stream",
       "stream": "stdout",
       "text": [
        "13.152, n = 25, split = 100, leaf = 1, depth = 15\n"
       ]
      },
      {
       "output_type": "stream",
       "stream": "stdout",
       "text": [
        "13.121, n = 17, split = 100, leaf = 8, depth = 25\n"
       ]
      },
      {
       "output_type": "stream",
       "stream": "stdout",
       "text": [
        "12.909, n = 17, split = 70, leaf = 5, depth = 25\n"
       ]
      },
      {
       "output_type": "stream",
       "stream": "stdout",
       "text": [
        "13.121, n = 17, split = 100, leaf = 8, depth = 35\n"
       ]
      },
      {
       "output_type": "stream",
       "stream": "stdout",
       "text": [
        "13.091, n = 39, split = 70, leaf = 1, depth = 15\n"
       ]
      },
      {
       "output_type": "stream",
       "stream": "stdout",
       "text": [
        "13.000, n = 39, split = 130, leaf = 1, depth = 25\n"
       ]
      },
      {
       "output_type": "stream",
       "stream": "stdout",
       "text": [
        "12.818, n = 25, split = 100, leaf = 8, depth = 35\n"
       ]
      },
      {
       "output_type": "stream",
       "stream": "stdout",
       "text": [
        "13.030, n = 17, split = 100, leaf = 8, depth = 15\n"
       ]
      },
      {
       "output_type": "stream",
       "stream": "stdout",
       "text": [
        "12.667, n = 25, split = 100, leaf = 8, depth = 15\n"
       ]
      },
      {
       "output_type": "stream",
       "stream": "stdout",
       "text": [
        "13.121, n = 17, split = 70, leaf = 1, depth = 15\n"
       ]
      },
      {
       "output_type": "stream",
       "stream": "stdout",
       "text": [
        "13.061, n = 25, split = 100, leaf = 1, depth = 25\n"
       ]
      },
      {
       "output_type": "stream",
       "stream": "stdout",
       "text": [
        "12.879, n = 17, split = 100, leaf = 5, depth = 35\n"
       ]
      },
      {
       "output_type": "stream",
       "stream": "stdout",
       "text": [
        "12.667, n = 39, split = 100, leaf = 1, depth = 15\n"
       ]
      },
      {
       "output_type": "stream",
       "stream": "stdout",
       "text": [
        "13.182, n = 39, split = 100, leaf = 5, depth = 25\n"
       ]
      },
      {
       "output_type": "stream",
       "stream": "stdout",
       "text": [
        "13.000, n = 39, split = 130, leaf = 1, depth = 35\n"
       ]
      },
      {
       "output_type": "stream",
       "stream": "stdout",
       "text": [
        "12.879, n = 25, split = 130, leaf = 1, depth = 15\n"
       ]
      },
      {
       "output_type": "stream",
       "stream": "stdout",
       "text": [
        "13.091, n = 25, split = 70, leaf = 8, depth = 15\n"
       ]
      },
      {
       "output_type": "stream",
       "stream": "stdout",
       "text": [
        "13.061, n = 25, split = 100, leaf = 1, depth = 35\n"
       ]
      },
      {
       "output_type": "stream",
       "stream": "stdout",
       "text": [
        "13.030, n = 39, split = 130, leaf = 8, depth = 25\n"
       ]
      },
      {
       "output_type": "stream",
       "stream": "stdout",
       "text": [
        "12.970, n = 39, split = 130, leaf = 5, depth = 25\n"
       ]
      },
      {
       "output_type": "stream",
       "stream": "stdout",
       "text": [
        "13.121, n = 17, split = 70, leaf = 1, depth = 25\n"
       ]
      },
      {
       "output_type": "stream",
       "stream": "stdout",
       "text": [
        "13.091, n = 17, split = 70, leaf = 5, depth = 15\n"
       ]
      },
      {
       "output_type": "stream",
       "stream": "stdout",
       "text": [
        "12.970, n = 39, split = 70, leaf = 5, depth = 15\n"
       ]
      },
      {
       "output_type": "stream",
       "stream": "stdout",
       "text": [
        "12.758, n = 39, split = 100, leaf = 1, depth = 35\n"
       ]
      },
      {
       "output_type": "stream",
       "stream": "stdout",
       "text": [
        "13.121, n = 39, split = 70, leaf = 5, depth = 35\n"
       ]
      },
      {
       "output_type": "stream",
       "stream": "stdout",
       "text": [
        "13.273, n = 17, split = 130, leaf = 5, depth = 35\n"
       ]
      },
      {
       "output_type": "stream",
       "stream": "stdout",
       "text": [
        "12.909, n = 25, split = 100, leaf = 5, depth = 35\n"
       ]
      },
      {
       "output_type": "stream",
       "stream": "stdout",
       "text": [
        "13.061, n = 17, split = 70, leaf = 1, depth = 35\n"
       ]
      },
      {
       "output_type": "stream",
       "stream": "stdout",
       "text": [
        "13.121, n = 17, split = 130, leaf = 8, depth = 15\n"
       ]
      },
      {
       "output_type": "stream",
       "stream": "stdout",
       "text": [
        "13.182, n = 39, split = 100, leaf = 5, depth = 15\n"
       ]
      },
      {
       "output_type": "stream",
       "stream": "stdout",
       "text": [
        "12.970, n = 39, split = 100, leaf = 8, depth = 35\n"
       ]
      },
      {
       "output_type": "stream",
       "stream": "stdout",
       "text": [
        "13.000, n = 25, split = 130, leaf = 5, depth = 25\n"
       ]
      },
      {
       "output_type": "stream",
       "stream": "stdout",
       "text": [
        "12.970, n = 39, split = 130, leaf = 5, depth = 15\n"
       ]
      },
      {
       "output_type": "stream",
       "stream": "stdout",
       "text": [
        "13.182, n = 17, split = 130, leaf = 8, depth = 25\n"
       ]
      },
      {
       "output_type": "stream",
       "stream": "stdout",
       "text": [
        "12.909, n = 17, split = 70, leaf = 8, depth = 15\n"
       ]
      },
      {
       "output_type": "stream",
       "stream": "stdout",
       "text": [
        "13.242, n = 17, split = 100, leaf = 1, depth = 35\n"
       ]
      },
      {
       "output_type": "stream",
       "stream": "stdout",
       "text": [
        "12.939, n = 25, split = 70, leaf = 8, depth = 35\n"
       ]
      },
      {
       "output_type": "stream",
       "stream": "stdout",
       "text": [
        "12.818, n = 17, split = 100, leaf = 5, depth = 15\n"
       ]
      },
      {
       "output_type": "stream",
       "stream": "stdout",
       "text": [
        "12.848, n = 25, split = 70, leaf = 5, depth = 15\n"
       ]
      },
      {
       "output_type": "stream",
       "stream": "stdout",
       "text": [
        "12.879, n = 39, split = 70, leaf = 8, depth = 25\n"
       ]
      },
      {
       "output_type": "stream",
       "stream": "stdout",
       "text": [
        "13.000, n = 25, split = 130, leaf = 5, depth = 35\n"
       ]
      },
      {
       "output_type": "stream",
       "stream": "stdout",
       "text": [
        "12.970, n = 39, split = 100, leaf = 8, depth = 25\n"
       ]
      },
      {
       "output_type": "stream",
       "stream": "stdout",
       "text": [
        "13.000, n = 25, split = 100, leaf = 5, depth = 15\n"
       ]
      },
      {
       "output_type": "stream",
       "stream": "stdout",
       "text": [
        "12.939, n = 17, split = 100, leaf = 5, depth = 25\n"
       ]
      },
      {
       "output_type": "stream",
       "stream": "stdout",
       "text": [
        "12.939, n = 25, split = 70, leaf = 8, depth = 25\n"
       ]
      },
      {
       "output_type": "stream",
       "stream": "stdout",
       "text": [
        "12.848, n = 25, split = 130, leaf = 8, depth = 25\n"
       ]
      },
      {
       "output_type": "stream",
       "stream": "stdout",
       "text": [
        "13.152, n = 39, split = 70, leaf = 1, depth = 25\n"
       ]
      },
      {
       "output_type": "stream",
       "stream": "stdout",
       "text": [
        "13.030, n = 25, split = 130, leaf = 5, depth = 15\n"
       ]
      },
      {
       "output_type": "stream",
       "stream": "stdout",
       "text": [
        "12.939, n = 17, split = 70, leaf = 8, depth = 25\n"
       ]
      },
      {
       "output_type": "stream",
       "stream": "stdout",
       "text": [
        "13.212, n = 17, split = 100, leaf = 1, depth = 25\n"
       ]
      },
      {
       "output_type": "stream",
       "stream": "stdout",
       "text": [
        "12.576, n = 25, split = 70, leaf = 1, depth = 25\n"
       ]
      },
      {
       "output_type": "stream",
       "stream": "stdout",
       "text": [
        "13.000, n = 39, split = 130, leaf = 1, depth = 15\n"
       ]
      },
      {
       "output_type": "stream",
       "stream": "stdout",
       "text": [
        "13.242, n = 17, split = 130, leaf = 5, depth = 15\n"
       ]
      }
     ],
     "prompt_number": 21
    },
    {
     "cell_type": "code",
     "collapsed": false,
     "input": [
      "for score, params in sorted(results)[:5] :\n",
      "    n, split, leaf, depth = params\n",
      "    print score, try_classifier(X_train_meta_add, y_train_meta, n, split, leaf, depth), params"
     ],
     "language": "python",
     "metadata": {},
     "outputs": [
      {
       "output_type": "stream",
       "stream": "stdout",
       "text": [
        "12.5151515152"
       ]
      },
      {
       "output_type": "stream",
       "stream": "stdout",
       "text": [
        " 12.4545454545 (25, 70, 1, 35)\n",
        "12.5757575758"
       ]
      },
      {
       "output_type": "stream",
       "stream": "stdout",
       "text": [
        " 12.5757575758 (25, 70, 1, 15)\n",
        "12.5757575758"
       ]
      },
      {
       "output_type": "stream",
       "stream": "stdout",
       "text": [
        " 12.4545454545 (25, 70, 1, 25)\n",
        "12.6666666667"
       ]
      },
      {
       "output_type": "stream",
       "stream": "stdout",
       "text": [
        " 12.7272727273 (25, 100, 8, 15)\n",
        "12.6666666667"
       ]
      },
      {
       "output_type": "stream",
       "stream": "stdout",
       "text": [
        " 12.6666666667 (39, 100, 1, 15)\n"
       ]
      }
     ],
     "prompt_number": 22
    },
    {
     "cell_type": "raw",
     "metadata": {},
     "source": [
      "\u0418\u0442\u043e\u0433\u043e \u043b\u0443\u0447\u0448\u0438\u0435 \u043f\u0430\u0440\u0430\u043c\u0435\u0442\u0440\u044b: n = 25, split = 70, leaf = 1, depth = 35"
     ]
    },
    {
     "cell_type": "code",
     "collapsed": false,
     "input": [
      "classifier_meta = RandomForestClassifier(n_estimators = 25, min_samples_split = 70, min_samples_leaf = 1, max_depth = 35)\n",
      "\n",
      "classifier_meta.fit(X_train_meta_add, y_train_meta)\n",
      "\n",
      "y_meta_predicted = map(form_answer_from_mark, classifier_meta.predict_proba(X_test_meta_add)[:, 1])"
     ],
     "language": "python",
     "metadata": {},
     "outputs": [],
     "prompt_number": 23
    },
    {
     "cell_type": "code",
     "collapsed": false,
     "input": [
      "df_test['Prediction'] = y_meta_predicted\n",
      "df_test.loc[:, ['Id', 'Prediction']].to_csv('kaggle1/solutions/meta.csv', index=False)\n",
      "\n",
      "#Test result ?"
     ],
     "language": "python",
     "metadata": {},
     "outputs": [],
     "prompt_number": 25
    },
    {
     "cell_type": "raw",
     "metadata": {},
     "source": [
      "\u041a\u043e\u043d\u0435\u0446"
     ]
    }
   ],
   "metadata": {}
  }
 ]
}