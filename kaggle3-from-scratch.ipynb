{
 "metadata": {
  "name": "",
  "signature": "sha256:99e2ae74fe7c615d39c2b7e6d99745f0d581c77cea286c0bc243bd776c95cd07"
 },
 "nbformat": 3,
 "nbformat_minor": 0,
 "worksheets": [
  {
   "cells": [
    {
     "cell_type": "heading",
     "level": 2,
     "metadata": {},
     "source": [
      "\u0421\u0445\u0435\u043c\u0430 \u043c\u0435\u0442\u043e\u0434\u0430"
     ]
    },
    {
     "cell_type": "raw",
     "metadata": {},
     "source": [
      "0. \u041e\u043f\u0440\u0435\u0434\u0435\u043b\u044f\u0435\u043c \u0445\u0435\u043b\u043f\u0435\u0440-\u0444\u0443\u043d\u043a\u0446\u0438\u0438\n",
      "1. \u0412\u0432\u043e\u0434\u0438\u043c \u0444\u0443\u043d\u043a\u0446\u0438\u044e \u044d\u0432\u0440\u0438\u0441\u0442\u0438\u0447\u0435\u0441\u043a\u0438 \u043e\u0446\u0435\u043d\u0438\u0432\u0430\u044e\u0449\u0443\u044e \u0441\u043a\u043e\u043b\u044c\u043a\u043e \u043d\u0430\u0438\u0431\u043e\u043b\u0435\u0435 \u0432\u0435\u0440\u043e\u044f\u0442\u043d\u044b\u0445 \u043a\u0430\u0442\u0435\u0433\u043e\u0440\u0438\u0439 \u043a\u043e\u043d\u043a\u0440\u0435\u0442\u043d\u043e\u0433\u043e \u0434\u043e\u043a\u0443\u043c\u0435\u043d\u0442\u0430 \u0432\u044b\u0431\u0440\u0430\u0442\u044c\n",
      "2. \u0417\u0430\u0433\u0440\u0443\u0436\u0430\u0435\u043c \u0434\u0430\u043d\u043d\u044b\u0435 (\u0438\u0437 \u0431\u0435\u0439\u0437\u043b\u0430\u0439\u043d\u0430)\n",
      "3. \u041d\u043e\u0440\u043c\u0438\u0440\u0443\u0435\u043c \u0438\u0445 (\u0438\u0437 \u0431\u0435\u0439\u0437\u043b\u0430\u0439\u043d\u0430)\n",
      "4. \u0411\u044c\u0435\u043c train \u043d\u0430 train, meta \u0438 test. test \u043d\u0430\u0437\u044b\u0432\u0430\u0435\u043c kaggle.\n",
      "5. \u0421\u043d\u0438\u0436\u0430\u0435\u043c \u0440\u0430\u0437\u043c\u0435\u0440\u043d\u043e\u0441\u0442\u044c: \n",
      "  \u0430) TruncatedSVD \u043d\u0430 60 \u0432\u0435\u043a\u0442\u043e\u0440\u043e\u0432 (\u043f\u043e\u0434\u043e\u0431\u0440\u0430\u043d\u043e \u043f\u043e \u0441\u0430\u043c\u043e\u043c\u0443 \u0441\u0438\u043b\u044c\u043d\u043e\u043c\u0443 \u043a\u043b\u0430\u0441\u0441\u0438\u0444\u0438\u043a\u0430\u0442\u043e\u0440\u0443 RF)\n",
      "  \u0431) \u0412\u044b\u0431\u0438\u0440\u0430\u0435\u043c 3 \u0441\u0430\u043c\u044b\u0435 \u0441\u0438\u043b\u044c\u043d\u044b\u0435 \u0444\u0438\u0447\u0438 \u043f\u043e \u043a\u0430\u0436\u0434\u043e\u043c\u0443 \u0438\u0437 \u043a\u043b\u0430\u0441\u0441\u043e\u0432 (\u043e\u0431\u0443\u0447\u0430\u0435\u043c \u043d\u0430 \u0435\u0434\u0438\u043d\u0441\u0442\u0432\u0435\u043d\u043d\u043e\u0439 \u0444\u0438\u0447\u0435 \u0445\u0438\u043b\u044b\u0439 RF)\n",
      "  \u0432) \u0421\u043e\u0435\u0434\u0438\u043d\u044f\u0435\u043c \n",
      "6. \u041d\u0430 train \u043e\u0431\u0443\u0447\u0430\u0435\u043c \u043d\u0430\u0431\u043e\u0440 \u043a\u043b\u0430\u0441\u0441\u0438\u0444\u0438\u043a\u0430\u0442\u043e\u0440\u043e\u0432 one VS rest, \u043f\u0430\u0440\u0430\u043c\u0435\u0442\u0440\u044b \u043f\u043e\u0434\u0431\u0438\u0440\u0430\u0435\u043c \u043d\u0430 meta\n",
      "  \u0430) \u041b\u0438\u043d\u0435\u0439\u043d\u044b\u0439 SVM (\u043d\u0430 \u043f\u043e\u043b\u043d\u043e\u043c \u043f\u0440\u043e\u0441\u0442\u0440\u0430\u043d\u0441\u0442\u0432\u0435)\n",
      "  \u0431) LDA (\u043d\u0430 c\u0436\u0430\u0442\u043e\u043c)\n",
      "  \u0432) RandomForest (\u043d\u0430 \u0441\u0436\u0430\u0442\u043e\u043c)\n",
      "  \u0433) SVM RBF (\u043d\u0430 \u0441\u0436\u0430\u0442\u043e\u043c)\n",
      "  \u0434) BernoulliNB (\u043d\u0430 \u043f\u043e\u043b\u043d\u043e\u043c)\n",
      "7. \u0421\u043e\u0431\u0438\u0440\u0430\u0435\u043c \u0440\u0435\u0437\u0443\u043b\u044c\u0442\u0430\u0442\u044b predict_proba() \u0438 decision_function() \u0432 \u043f\u0443\u043b\u044b \u043c\u0435\u0442\u0430-\u0444\u0438\u0447 \u0434\u043b\u044f meta, test \u0438 kaggle\n",
      "8. \u041e\u0431\u0443\u0447\u0430\u0435\u043c RF \u043d\u0430 \u043c\u0435\u0442\u0430 \u0444\u0438\u0447\u0430\u0445 \u043f\u043e \u0432\u044b\u0431\u043e\u0440\u043a\u0435 meta \u0438 \u043f\u043e\u0434\u0431\u0438\u0440\u0430\u0435\u043c \u043f\u0430\u0440\u0430\u043c\u0435\u0442\u0440\u044b \u043d\u0430 test.\n",
      "9. \u041f\u043e\u043b\u0443\u0447\u0430\u0435\u043c predict_proba \u043d\u0430 test \u0438 kaggle.\n",
      "10. \u0418\u0441\u043f\u043e\u043b\u044c\u0437\u0443\u044f \u044d\u0442\u0443 \u0444\u0443\u043d\u043a\u0446\u0438\u044e \u043f\u043e test \u0441\u0447\u0438\u0442\u0430\u0435\u043c \u043e\u0447\u043a\u0438 \u043e\u0442\u0434\u0435\u043b\u044c\u043d\u044b\u0445 \u0430\u043b\u0433\u043e\u0440\u0438\u0442\u043c\u043e\u0432 \u0438 \u043c\u0435\u0442\u0430-\u0430\u043b\u0433\u043e\u0440\u0438\u0442\u043c\u0430. \u0418\u0441\u043f\u043e\u043b\u044c\u0437\u0443\u0435\u043c \u044d\u0442\u0443 \u0436\u0435 \u0444\u0443\u043d\u043a\u0446\u0438\u044e \u043f\u0440\u0438 \u043f\u043e\u0441\u044b\u043b\u043a\u0430\u0445 \u043d\u0430 \u043a\u0430\u0433\u043b."
     ]
    },
    {
     "cell_type": "heading",
     "level": 2,
     "metadata": {},
     "source": [
      "0. \u041e\u043f\u0440\u0435\u0434\u0435\u043b\u044f\u0435\u043c \u0445\u0435\u043b\u043f\u0435\u0440-\u0444\u0443\u043d\u043a\u0446\u0438\u0438"
     ]
    },
    {
     "cell_type": "code",
     "collapsed": false,
     "input": [
      "from sklearn.metrics import f1_score, make_scorer\n",
      "from sklearn.grid_search import GridSearchCV"
     ],
     "language": "python",
     "metadata": {},
     "outputs": [],
     "prompt_number": 1
    },
    {
     "cell_type": "code",
     "collapsed": false,
     "input": [
      "from scipy import sparse\n",
      "\n",
      "def read_data_from_file(filename):\n",
      "    values = list()\n",
      "    rows = list()\n",
      "    cols = list()\n",
      "    \n",
      "    header = True\n",
      "    for line in open(filename):\n",
      "        if header:\n",
      "            header = False\n",
      "            continue\n",
      "        value, row, col = [int(x) for x in line.strip().split(',')]\n",
      "        row -= 1\n",
      "        col -= 1\n",
      "        values.append(value)\n",
      "        rows.append(row)\n",
      "        cols.append(col)\n",
      "        \n",
      "    return sparse.csr_matrix((values, (rows, cols)), shape=(10000, 25640))\n",
      "\n",
      "def read_labels_from_file(filename):\n",
      "    labels = zeros((10000, 83)).astype(int)\n",
      "\n",
      "    header = True\n",
      "    for line in open(filename):\n",
      "        if header:\n",
      "            header = False\n",
      "            continue\n",
      "        row, indeces = line.strip().split(',')\n",
      "        row = int(row) - 1\n",
      "        indeces = [int(x) - 1 for x in indeces.split()]\n",
      "        labels[row, indeces] = 1\n",
      "    \n",
      "    return labels\n",
      "\n",
      "def write_labels_to_file(labels, filename):\n",
      "    outfile = open(filename, 'w')\n",
      "    print >> outfile, \"Id,Labels\"\n",
      "    for i, line in enumerate(labels):\n",
      "        elements = [str(x) for x in list(nonzero(line)[0] + 1)]\n",
      "        \n",
      "        print >> outfile, \"%d,%s\" % (i + 1, ' '.join(elements))\n",
      "        \n",
      "def plot_grid_searcher_results(grid_seacher, log_scale):\n",
      "    means = list()\n",
      "    param_values = list()\n",
      "\n",
      "    for score in grid_searcher.grid_scores_:\n",
      "        print score.cv_validation_scores\n",
      "        means.append(score.mean_validation_score)\n",
      "        param_values.append(score.parameters.values()[0])\n",
      "\n",
      "    parameter_name = grid_searcher.grid_scores_[0].parameters.keys()[2]\n",
      "    means = array(means)\n",
      "    \n",
      "    plot(param_values, means)\n",
      "    if log_scale:\n",
      "        xscale('log')\n",
      "    xlabel(parameter_name)\n",
      "    ylabel('Quality')\n",
      "    \n",
      "def predict_thresholds(predict, thresholds) :\n",
      "    return np.greater(predict, thresholds).astype(int)"
     ],
     "language": "python",
     "metadata": {},
     "outputs": [],
     "prompt_number": 2
    },
    {
     "cell_type": "heading",
     "level": 2,
     "metadata": {},
     "source": [
      "1. \u042d\u0432\u0440\u0438\u0441\u0442\u0438\u043a\u0430 \u043e\u0446\u0435\u043d\u043a\u0438 \u043a\u043e\u043b\u0438\u0447\u0435\u0441\u0442\u0432\u0430 \u043d\u0430\u0438\u0431\u043e\u043b\u0435\u0435 \u0432\u0435\u0440\u043e\u044f\u0442\u043d\u044b\u0445 \u043a\u0430\u0442\u0435\u0433\u043e\u0440\u0438\u0439 \u043a\u043e\u043d\u043a\u0440\u0435\u0442\u043d\u043e\u0433\u043e \u0434\u043e\u043a\u0443\u043c\u0435\u043d\u0442\u0430"
     ]
    },
    {
     "cell_type": "code",
     "collapsed": false,
     "input": [
      "def predict_threshold_auto(values) :\n",
      "    threshold_value = 1.0\n",
      "    s = sum(values)\n",
      "    s_k = 0.0\n",
      "    last_f1 = 0.0\n",
      "    for v in sorted(values, reverse = True) :\n",
      "        s += 1\n",
      "        s_k += v\n",
      "        if last_f1 >= s_k / s :\n",
      "            threshold = threshold_value\n",
      "            # print last_f1, threshold\n",
      "            break\n",
      "        last_f1 = s_k / s\n",
      "        threshold_value = v\n",
      "    \n",
      "    predicted = [int(x >= threshold_value) for x in values]\n",
      "\n",
      "    return predicted"
     ],
     "language": "python",
     "metadata": {},
     "outputs": [],
     "prompt_number": 3
    },
    {
     "cell_type": "heading",
     "level": 2,
     "metadata": {},
     "source": [
      "2. \u0417\u0430\u0433\u0440\u0443\u0436\u0430\u0435\u043c \u0434\u0430\u043d\u043d\u044b\u0435 (\u0438\u0437 \u0431\u0435\u0439\u0437\u043b\u0430\u0439\u043d\u0430)"
     ]
    },
    {
     "cell_type": "code",
     "collapsed": false,
     "input": [
      "X = read_data_from_file('/home/morph/kaggle3/X_train.csv').astype(float)\n",
      "X_kaggle = read_data_from_file('/home/morph/kaggle3/X_test.csv').astype(float)\n",
      "print X.shape, X_kaggle.shape"
     ],
     "language": "python",
     "metadata": {},
     "outputs": [
      {
       "output_type": "stream",
       "stream": "stdout",
       "text": [
        "(10000, 25640) (10000, 25640)\n"
       ]
      }
     ],
     "prompt_number": 4
    },
    {
     "cell_type": "heading",
     "level": 2,
     "metadata": {},
     "source": [
      "3. \u041d\u043e\u0440\u043c\u0438\u0440\u0443\u0435\u043c \u0438\u0445 (\u0438\u0437 \u0431\u0435\u0439\u0437\u043b\u0430\u0439\u043d\u0430)"
     ]
    },
    {
     "cell_type": "code",
     "collapsed": false,
     "input": [
      "from sklearn.preprocessing import scale\n",
      "\n",
      "X_all = sparse.vstack([X, X_kaggle])\n",
      "X_all = scale(X_all, with_mean = False)\n",
      "X = X_all[:10000, :]\n",
      "X_kaggle = X_all[10000:, :]\n",
      "\n",
      "del X_all"
     ],
     "language": "python",
     "metadata": {},
     "outputs": [],
     "prompt_number": 5
    },
    {
     "cell_type": "code",
     "collapsed": false,
     "input": [
      "y = read_labels_from_file('/home/morph/kaggle3/y_train.csv')\n",
      "print y.shape"
     ],
     "language": "python",
     "metadata": {},
     "outputs": [
      {
       "output_type": "stream",
       "stream": "stdout",
       "text": [
        "(10000, 83)\n"
       ]
      }
     ],
     "prompt_number": 6
    },
    {
     "cell_type": "heading",
     "level": 2,
     "metadata": {},
     "source": [
      "4. \u0411\u044c\u0435\u043c train \u043d\u0430 train, meta \u0438 test. test \u043d\u0430\u0437\u044b\u0432\u0430\u0435\u043c kaggle."
     ]
    },
    {
     "cell_type": "code",
     "collapsed": false,
     "input": [
      "from sklearn.cross_validation import train_test_split\n",
      "\n",
      "X_train, X_meta_cv, y_train, y_meta_cv = train_test_split(X, y, test_size = 3000, random_state = 0)"
     ],
     "language": "python",
     "metadata": {},
     "outputs": [],
     "prompt_number": 8
    },
    {
     "cell_type": "code",
     "collapsed": false,
     "input": [
      "X_meta, X_cv, y_meta, y_cv = train_test_split(X_meta_cv, y_meta_cv, test_size = 750, random_state = 2)"
     ],
     "language": "python",
     "metadata": {},
     "outputs": [],
     "prompt_number": 9
    },
    {
     "cell_type": "heading",
     "level": 2,
     "metadata": {},
     "source": [
      "5. \u0421\u043d\u0438\u0436\u0430\u0435\u043c \u0440\u0430\u0437\u043c\u0435\u0440\u043d\u043e\u0441\u0442\u044c"
     ]
    },
    {
     "cell_type": "heading",
     "level": 3,
     "metadata": {},
     "source": [
      "5.\u0430) TruncatedSVD"
     ]
    },
    {
     "cell_type": "code",
     "collapsed": false,
     "input": [
      "from sklearn.decomposition import TruncatedSVD\n",
      "\n",
      "features_reducer = TruncatedSVD(n_components = 60, random_state = 0)\n",
      "features_reducer.fit(X_kaggle)\n",
      "\n",
      "X_train_svd = features_reducer.transform(X_train)\n",
      "X_kaggle_svd = features_reducer.transform(X_kaggle)"
     ],
     "language": "python",
     "metadata": {},
     "outputs": [],
     "prompt_number": 10
    },
    {
     "cell_type": "code",
     "collapsed": false,
     "input": [
      "X_meta_svd = features_reducer.transform(X_meta)\n",
      "X_cv_svd = features_reducer.transform(X_cv)"
     ],
     "language": "python",
     "metadata": {},
     "outputs": [],
     "prompt_number": 11
    },
    {
     "cell_type": "heading",
     "level": 3,
     "metadata": {},
     "source": [
      "5.\u0431) \u0421\u0430\u043c\u043e\u0441\u0442\u043e\u044f\u0442\u0435\u043b\u044c\u043d\u043e \u0441\u0438\u043b\u044c\u043d\u044b\u0435 \u0444\u0438\u0447\u0438"
     ]
    },
    {
     "cell_type": "raw",
     "metadata": {},
     "source": [
      "from sklearn.metrics import roc_auc_score, make_scorer\n",
      "from sklearn.cross_validation import cross_val_score, KFold\n",
      "from sklearn.ensemble import RandomForestClassifier\n",
      "\n",
      "frequent_features = []\n",
      "for col, values in enumerate(X_kaggle.T) :\n",
      "    if values.getnnz() > 150 :\n",
      "        frequent_features.append(col)\n",
      "        \n",
      "print len(frequent_features)\n",
      "        \n",
      "# lonely_features = []\n",
      "\n",
      "for c in range(0, 76) :\n",
      "    features_lonely_score = []\n",
      "    for f in frequent_features :\n",
      "        current_score = []\n",
      "        clf = RandomForestClassifier(n_estimators = 10, n_jobs = 1, min_samples_leaf = 9)\n",
      "        score = cross_val_score(clf, X[:,f:f+1].toarray(), y[:,c].astype(int), cv = 5, n_jobs = 5, scoring = 'roc_auc')\n",
      "        # print score.mean(), score.std()\n",
      "        score = score.mean()\n",
      "        \n",
      "        \"\"\"X_train, X_test, y_train, y_test = train_test_split(X, y, test_size = 0.3)\n",
      "\n",
      "            X_train_f = X_train[:,f:f+1].toarray()\n",
      "            y_train_class = y_train[:,c]\n",
      "\n",
      "            X_test_f = X_test[:,f:f+1].toarray()\n",
      "            y_test_class = y_test[:,c]\n",
      "\n",
      "\n",
      "            \n",
      "            clf.fit(X_train_f, y_train_class)\n",
      "\n",
      "            predicts = clf.predict_proba(X_test_f)\n",
      "            score = roc_auc_score(y_test_class, predicts[:,1])\n",
      "            \n",
      "            current_score.append((f, score))\"\"\"\n",
      "        \n",
      "        features_lonely_score.append((f, score))\n",
      "\n",
      "    print c, max(features_lonely_score, key = lambda x: x[1])\n",
      "    for f, score in sorted(features_lonely_score, key = lambda x: x[1], reverse = True)[:3] :\n",
      "        lonely_features.append(f)\n",
      "    \n",
      "    print sorted(set(lonely_features))"
     ]
    },
    {
     "cell_type": "raw",
     "metadata": {},
     "source": [
      "\u041f\u043e\u0434\u0441\u0442\u0430\u0432\u043b\u044f\u044e \u0440\u0435\u0437\u0443\u043b\u044c\u0442\u0430\u0442 \u0442\u0430\u043a \u043a\u0430\u043a \u0441\u0447\u0438\u0442\u0430\u0435\u0442\u0441\u044f \u043e\u0447\u0435\u043d\u044c \u0434\u043e\u043b\u0433\u043e"
     ]
    },
    {
     "cell_type": "code",
     "collapsed": false,
     "input": [
      "lonely_features = [8571, 18226, 17168, 5922, 5676, 8756, 17251, 6128, 24129, 18674, 13140, 24877, 8495, 9434, 15285, 12001, 20432, 6888, 755, 149, 16411, 16790, 149, 20827, 14782, 20459, 13704, 20201, 24361, 5981, 10371, 149, 6888, 755, 14433, 24877, 18674, 7042, 18543, 8756, 12371, 20944, 8900, 2411, 5320, 13794, 24060, 18553, 20432, 18674, 13794, 18674, 13794, 13140, 16848, 19626, 893, 13140, 5922, 18674, 18543, 23273, 9278, 23698, 4859, 16602, 24049, 3534, 8195, 25507, 17344, 7042, 23386, 985, 18674, 149, 23920, 24050, 5395, 15947, 149, 6888, 2419, 5568, 2552, 22760, 24455, 3149, 755, 23273, 17451, 23483, 24815, 16602, 12894, 14453, 16109, 22178, 18974, 3017, 6160, 22155, 24815, 22145, 9116, 906, 5395, 24050, 3083, 14088, 10038, 11150, 14547, 8312, 22186, 21446, 23483, 149, 20577, 20459, 689, 19967, 2426, 20432, 18543, 21880, 11929, 13350, 3536, 3834, 24129, 13794, 3501, 16602, 6888, 149, 9351, 24188, 8568, 8935, 7105, 411, 13794, 24129, 6888, 755, 6888, 149, 8568, 1525, 17007, 18936, 10922, 8900, 23988, 5568, 11577, 4022, 2563, 18938, 1525, 8568, 17007, 6888, 149, 19645, 18674, 13140, 17034, 20432, 18674, 13140, 149, 16034, 6888, 13140, 18548, 17580, 1189, 422, 13140, 20270, 11142, 8466, 16790, 16411, 24878, 5275, 3217, 24361, 13140, 1525, 13140, 6888, 149, 19645, 6888, 149, 23483, 3800, 6888, 18120, 15107, 19237, 10254, 16411, 21880, 8815, 17641, 15397, 11963, 12371, 11229, 25238, 23054, 23626, 24467, 20223, 24129, 13794, 24129, 19688, 22727, 5922, 3061, 15947, 22741, 5320, 18674, 13140, 20432, 13794, 24129, 11577, 8756, 21880, 3875, 13794, 24129, 16790]\n",
      "\n",
      "good_features = sorted(set(lonely_features))"
     ],
     "language": "python",
     "metadata": {},
     "outputs": [],
     "prompt_number": 12
    },
    {
     "cell_type": "heading",
     "level": 3,
     "metadata": {},
     "source": [
      "5.\u0432) \u0421\u043e\u0435\u0434\u0438\u043d\u044f\u0435\u043c"
     ]
    },
    {
     "cell_type": "code",
     "collapsed": false,
     "input": [
      "X_train_reduced = hstack([X_train[:,good_features].toarray(), X_train_svd])\n",
      "X_kaggle_reduced = hstack([X_kaggle[:,good_features].toarray(), X_kaggle_svd])\n",
      "\n",
      "X_meta_reduced = hstack([X_meta[:,good_features].toarray(), X_meta_svd])\n",
      "X_cv_reduced = hstack([X_cv[:,good_features].toarray(), X_cv_svd])"
     ],
     "language": "python",
     "metadata": {},
     "outputs": [],
     "prompt_number": 13
    },
    {
     "cell_type": "heading",
     "level": 2,
     "metadata": {},
     "source": [
      "6. \u041e\u0431\u0443\u0447\u0430\u0435\u043c \u0431\u0430\u0437\u043e\u0432\u044b\u0435 \u043a\u043b\u0430\u0441\u0441\u0438\u0444\u0438\u043a\u0430\u0442\u043e\u0440\u044b \u043f\u043e train"
     ]
    },
    {
     "cell_type": "code",
     "collapsed": false,
     "input": [
      "p_meta = []\n",
      "p_cv = []\n",
      "p_kaggle = []"
     ],
     "language": "python",
     "metadata": {},
     "outputs": [],
     "prompt_number": 14
    },
    {
     "cell_type": "heading",
     "level": 3,
     "metadata": {},
     "source": [
      "6.\u0430) \u041b\u0438\u043d\u0435\u0439\u043d\u044b\u0439 SVM"
     ]
    },
    {
     "cell_type": "code",
     "collapsed": false,
     "input": [
      "from sklearn.base import BaseEstimator, ClassifierMixin\n",
      "from sklearn.multiclass import OneVsRestClassifier, OutputCodeClassifier\n",
      "from sklearn.svm import LinearSVC\n",
      "\n",
      "from numpy import vectorize\n",
      "from math import atan\n",
      "vatan = vectorize(atan)\n",
      "\n",
      "class LinearClassifier(BaseEstimator, ClassifierMixin):\n",
      "    def __init__(self, C = 1.0, threshold = 0.0, n_jobs=1, class_weight = None):\n",
      "        self.C = C\n",
      "        self.threshold = threshold\n",
      "        self.n_jobs = n_jobs\n",
      "        self.class_weight = class_weight\n",
      "    \n",
      "    def fit(self, X, y):\n",
      "        self.clf = OneVsRestClassifier(\n",
      "            LinearSVC(C = self.C, class_weight = self.class_weight), self.n_jobs\n",
      "        )\n",
      "        self.clf.fit(X, y)\n",
      "    \n",
      "    def predict(self, X):\n",
      "        return predict_thresholds(self.clf.decision_function(X), [self.threshold for n in range(83)])\n",
      "\n",
      "    def predict_proba(self, X):\n",
      "        return vatan(self.clf.decision_function(X))"
     ],
     "language": "python",
     "metadata": {},
     "outputs": [],
     "prompt_number": 15
    },
    {
     "cell_type": "code",
     "collapsed": false,
     "input": [
      "C_range = [0.00001 * 1.5 ** n for n in range(-2, 3)]\n",
      "threshold_range = [-0.5 + float(n) / 25 for n in range(-2, 3)]\n",
      "\n",
      "grid_searcher = GridSearchCV(\n",
      "        estimator=LinearClassifier(C = 0, threshold = 0, n_jobs = 12),\n",
      "        param_grid={'C' : C_range, 'threshold' : threshold_range },\n",
      "        scoring=make_scorer(f1_score, average='samples'),\n",
      "        cv=2,\n",
      "        n_jobs=1\n",
      ")\n",
      "\n",
      "grid_searcher.fit(X_train, y_train)"
     ],
     "language": "python",
     "metadata": {},
     "outputs": [
      {
       "metadata": {},
       "output_type": "pyout",
       "prompt_number": 24,
       "text": [
        "GridSearchCV(cv=2,\n",
        "       estimator=LinearClassifier(C=0, class_weight=None, n_jobs=12, threshold=0),\n",
        "       fit_params={}, iid=True, loss_func=None, n_jobs=1,\n",
        "       param_grid={'threshold': [-0.58, -0.54, -0.5, -0.46, -0.42], 'C': [4.444444444444444e-06, 6.666666666666667e-06, 1e-05, 1.5000000000000002e-05, 2.25e-05]},\n",
        "       pre_dispatch='2*n_jobs', refit=True, score_func=None,\n",
        "       scoring=make_scorer(f1_score, average=samples), verbose=0)"
       ]
      }
     ],
     "prompt_number": 24
    },
    {
     "cell_type": "code",
     "collapsed": false,
     "input": [
      "import pylab as pl\n",
      "# plot the scores of the grid\n",
      "# grid_scores_ contains parameter settings and scores\n",
      "score_dict = grid_searcher.grid_scores_\n",
      "\n",
      "# We extract just the scores\n",
      "scores = [x[1] for x in score_dict]\n",
      "scores = np.array(scores).reshape(len(C_range), len(threshold_range))\n",
      "\n",
      "# draw heatmap of F1-score as a function of threshold and C\n",
      "pl.figure(figsize=(8, 6))\n",
      "pl.subplots_adjust(left=0.05, right=0.95, bottom=0.15, top=0.95)\n",
      "pl.imshow(scores, interpolation='nearest', cmap=pl.cm.spectral)\n",
      "pl.xlabel('threshold')\n",
      "pl.ylabel('C')\n",
      "pl.colorbar()\n",
      "pl.xticks(np.arange(len(threshold_range)), threshold_range, rotation=45)\n",
      "pl.yticks(np.arange(len(C_range)), C_range)\n",
      "\n",
      "pl.show()"
     ],
     "language": "python",
     "metadata": {},
     "outputs": [
      {
       "metadata": {},
       "output_type": "display_data",
       "png": "[encoded data removed]",
       "text": [
        "<matplotlib.figure.Figure at 0x8f20950>"
       ]
      }
     ],
     "prompt_number": 25
    },
    {
     "cell_type": "code",
     "collapsed": false,
     "input": [
      "grid_searcher.best_params_"
     ],
     "language": "python",
     "metadata": {},
     "outputs": [
      {
       "metadata": {},
       "output_type": "pyout",
       "prompt_number": 27,
       "text": [
        "{'C': 1e-05, 'threshold': -0.46}"
       ]
      }
     ],
     "prompt_number": 27
    },
    {
     "cell_type": "code",
     "collapsed": false,
     "input": [
      "classifier_svm = LinearClassifier(C = 0.00001, threshold = -0.46, n_jobs = 12)"
     ],
     "language": "python",
     "metadata": {},
     "outputs": [],
     "prompt_number": 16
    },
    {
     "cell_type": "code",
     "collapsed": false,
     "input": [
      "classifier_svm.fit(X_train, y_train)"
     ],
     "language": "python",
     "metadata": {},
     "outputs": [],
     "prompt_number": 17
    },
    {
     "cell_type": "code",
     "collapsed": false,
     "input": [
      "p_meta.append(classifier_svm.predict_proba(X_meta))\n",
      "p_cv.append(classifier_svm.predict_proba(X_cv))\n",
      "p_kaggle.append(classifier_svm.predict_proba(X_kaggle))"
     ],
     "language": "python",
     "metadata": {},
     "outputs": [],
     "prompt_number": 18
    },
    {
     "cell_type": "code",
     "collapsed": false,
     "input": [
      "print \"LinearSVM CV %.3f\" % (f1_score(y_meta.astype(int), classifier_svm.predict(X_meta), average = 'samples'))"
     ],
     "language": "python",
     "metadata": {},
     "outputs": [
      {
       "output_type": "stream",
       "stream": "stdout",
       "text": [
        "LinearSVM CV 0.497\n"
       ]
      },
      {
       "output_type": "stream",
       "stream": "stderr",
       "text": [
        "/mnt/w76/venv/py27/local/lib/python2.7/site-packages/sklearn/metrics/metrics.py:1513: UserWarning: Sample-based precision is undefined for some samples. \n",
        "  warnings.warn(warning_msg)\n"
       ]
      }
     ],
     "prompt_number": 19
    },
    {
     "cell_type": "raw",
     "metadata": {},
     "source": [
      "Warning \u043e\u0437\u043d\u0430\u0447\u0430\u0435\u0442 \u0447\u0442\u043e \u0443 \u043d\u0430\u0441 \u043d\u0435\u0442 \u043c\u0435\u0442\u043e\u043a \u0432 \u0441\u0442\u0440\u043e\u043a\u0435"
     ]
    },
    {
     "cell_type": "heading",
     "level": 2,
     "metadata": {},
     "source": [
      "6.\u0431) LDA"
     ]
    },
    {
     "cell_type": "code",
     "collapsed": false,
     "input": [
      "from sklearn.base import BaseEstimator, ClassifierMixin\n",
      "from sklearn.multiclass import OneVsRestClassifier\n",
      "from sklearn.lda import LDA\n",
      "    \n",
      "class LDAClassifier(BaseEstimator, ClassifierMixin):\n",
      "    def __init__(self, n_components = 10, n_jobs=1):\n",
      "        self.n_jobs = n_jobs\n",
      "        self.n_components = n_components\n",
      "    \n",
      "    def fit(self, X, y):\n",
      "        self.clf = OneVsRestClassifier(LDA(n_components = self.n_components), self.n_jobs)\n",
      "        self.clf.fit(X, y)\n",
      "    \n",
      "    def predict(self, X):\n",
      "        return np.array([predict_threshold_auto(predicted) for predicted in self.predict_proba(X)])\n",
      "\n",
      "    def predict_proba(self, X):\n",
      "        return self.clf.predict_proba(X)"
     ],
     "language": "python",
     "metadata": {},
     "outputs": [],
     "prompt_number": 20
    },
    {
     "cell_type": "code",
     "collapsed": false,
     "input": [
      "for n_components in [3, 5, 10, 20, 40] :\n",
      "    classifier_lda = LDAClassifier(n_components = n_components, n_jobs = 8)\n",
      "\n",
      "    classifier_lda.fit(X_train_reduced, y_train)\n",
      "\n",
      "    print \"LDA n_components = %d CV %.3f\" % (n_components, f1_score(y_meta.astype(int), classifier_lda.predict(X_meta_reduced), average = 'samples'))"
     ],
     "language": "python",
     "metadata": {},
     "outputs": [
      {
       "output_type": "stream",
       "stream": "stdout",
       "text": [
        "LDA n_components = 3 CV 0.431\n"
       ]
      },
      {
       "output_type": "stream",
       "stream": "stdout",
       "text": [
        "LDA n_components = 5 CV 0.431\n"
       ]
      },
      {
       "output_type": "stream",
       "stream": "stdout",
       "text": [
        "LDA n_components = 10 CV 0.431\n"
       ]
      },
      {
       "output_type": "stream",
       "stream": "stdout",
       "text": [
        "LDA n_components = 20 CV 0.431\n"
       ]
      },
      {
       "output_type": "stream",
       "stream": "stdout",
       "text": [
        "LDA n_components = 40 CV 0.431\n"
       ]
      }
     ],
     "prompt_number": 35
    },
    {
     "cell_type": "raw",
     "metadata": {},
     "source": [
      "\u041d\u0435\u043c\u043d\u043e\u0433\u043e \u0441\u0442\u0440\u0430\u043d\u043d\u043e \u0447\u0442\u043e \u043e\u0442 \u0440\u0430\u0437\u043c\u0435\u0440\u043d\u043e\u0441\u0442\u0438 \u043d\u0438\u0447\u0435\u0433\u043e \u043d\u0435 \u0437\u0430\u0432\u0438\u0441\u0438\u0442, \u043d\u043e \u044f \u043d\u0435 \u0441\u043c\u043e\u0433 \u043d\u0430\u0439\u0442\u0438 \u043e\u0448\u0438\u0431\u043a\u0443"
     ]
    },
    {
     "cell_type": "code",
     "collapsed": false,
     "input": [
      "classifier_lda = LDAClassifier(n_components = 10, n_jobs = 10)\n",
      "\n",
      "classifier_lda.fit(X_train_reduced, y_train)"
     ],
     "language": "python",
     "metadata": {},
     "outputs": [],
     "prompt_number": 21
    },
    {
     "cell_type": "code",
     "collapsed": false,
     "input": [
      "p_meta.append(classifier_lda.predict_proba(X_meta_reduced))\n",
      "p_cv.append(classifier_lda.predict_proba(X_cv_reduced))\n",
      "p_kaggle.append(classifier_lda.predict_proba(X_kaggle_reduced))"
     ],
     "language": "python",
     "metadata": {},
     "outputs": [],
     "prompt_number": 22
    },
    {
     "cell_type": "heading",
     "level": 3,
     "metadata": {},
     "source": [
      "6.\u0432) Random Forest"
     ]
    },
    {
     "cell_type": "code",
     "collapsed": false,
     "input": [
      "from sklearn.base import BaseEstimator, ClassifierMixin\n",
      "from sklearn.ensemble import RandomForestClassifier\n",
      "\n",
      "class BaselineRandomForestClassifier(BaseEstimator, ClassifierMixin):\n",
      "    def __init__(self, n_estimators = 200, n_jobs=12, min_samples_leaf = 5):\n",
      "        self.n_estimators = n_estimators\n",
      "        self.n_jobs = n_jobs\n",
      "        self.min_samples_leaf = min_samples_leaf\n",
      "    \n",
      "    def fit(self, X, y):\n",
      "        self.clf = OneVsRestClassifier(RandomForestClassifier(n_estimators=self.n_estimators, min_samples_leaf = self.min_samples_leaf), self.n_jobs)\n",
      "        self.clf.fit(X, y)\n",
      "    \n",
      "    def predict(self, X):\n",
      "        result = np.array([predict_threshold_auto(predicted) for predicted in self.predict_proba(X)])\n",
      "        # for i in range(len(self.clf.estimators_)) :\n",
      "        #     print i, np.unique(result[:,i])\n",
      "        return result\n",
      "    \n",
      "    \n",
      "    def predict_proba(self, X):\n",
      "        results = []\n",
      "        for e in self.clf.estimators_ :\n",
      "            try :\n",
      "                results.append(e.predict_proba(X)[:,1])\n",
      "            except AttributeError :\n",
      "                results.append(e.predict(X))\n",
      "            # print results[-1].shape\n",
      "        return np.column_stack(results)"
     ],
     "language": "python",
     "metadata": {},
     "outputs": [],
     "prompt_number": 23
    },
    {
     "cell_type": "raw",
     "metadata": {},
     "source": [
      "\u041f\u043e\u0434\u0431\u043e\u0440 \u043f\u0430\u0440\u0430\u043c\u0435\u0442\u0440\u043e\u0432 \u043e\u043f\u0443\u0449\u0435\u043d"
     ]
    },
    {
     "cell_type": "code",
     "collapsed": false,
     "input": [
      "classifier_rf = BaselineRandomForestClassifier(n_estimators = 300, min_samples_leaf = 5, n_jobs = 10)\n",
      "\n",
      "classifier_rf.fit(X_train_reduced, y_train)"
     ],
     "language": "python",
     "metadata": {},
     "outputs": [],
     "prompt_number": 24
    },
    {
     "cell_type": "code",
     "collapsed": false,
     "input": [
      "p_meta.append(classifier_rf.predict_proba(X_meta_reduced))\n",
      "p_cv.append(classifier_rf.predict_proba(X_cv_reduced))\n",
      "p_kaggle.append(classifier_rf.predict_proba(X_kaggle_reduced))"
     ],
     "language": "python",
     "metadata": {},
     "outputs": [],
     "prompt_number": 25
    },
    {
     "cell_type": "code",
     "collapsed": false,
     "input": [
      "print \"RF CV %.3f\" % (f1_score(y_meta.astype(int), classifier_rf.predict(X_meta_reduced), average = 'samples'))"
     ],
     "language": "python",
     "metadata": {},
     "outputs": [
      {
       "output_type": "stream",
       "stream": "stdout",
       "text": [
        "RF CV 0.482\n"
       ]
      }
     ],
     "prompt_number": 26
    },
    {
     "cell_type": "heading",
     "level": 2,
     "metadata": {},
     "source": [
      "6.\u0433) SVM RBF"
     ]
    },
    {
     "cell_type": "code",
     "collapsed": false,
     "input": [
      "from sklearn.base import BaseEstimator, ClassifierMixin\n",
      "from sklearn.multiclass import OneVsRestClassifier\n",
      "from sklearn.svm import SVC\n",
      "\n",
      "class SvmRbfClassifier(BaseEstimator, ClassifierMixin):\n",
      "    def __init__(self, C, gamma, n_jobs=1):\n",
      "        self.C = C\n",
      "        self.gamma = gamma\n",
      "        self.n_jobs = n_jobs\n",
      "    \n",
      "    def fit(self, X, y):\n",
      "        self.clf = OneVsRestClassifier(\n",
      "                SVC(kernel = 'rbf', cache_size = 1000, gamma = self.gamma, C = self.C, probability = True),\n",
      "                n_jobs=self.n_jobs,\n",
      "        )\n",
      "        \n",
      "        self.clf.fit(X, y)\n",
      "    \n",
      "    def predict(self, X):\n",
      "        return np.array([predict_threshold_auto(predicted) for predicted in self.predict_proba(X)])\n",
      "\n",
      "    def predict_proba(self, X):\n",
      "        results = []\n",
      "        for e in self.clf.estimators_ :\n",
      "            try :\n",
      "                results.append(e.predict_proba(X)[:,1])\n",
      "            except AttributeError :\n",
      "                results.append(e.predict(X))\n",
      "            # print results[-1].shape\n",
      "        return np.column_stack(results)"
     ],
     "language": "python",
     "metadata": {},
     "outputs": [],
     "prompt_number": 27
    },
    {
     "cell_type": "code",
     "collapsed": false,
     "input": [
      "C_range = [1.4595 * 3 ** n for n in [-4, -3, -2, -1]]\n",
      "gamma_range = [0.00075 * 3 ** n for n in [-4, -3, -2, -1]]\n",
      "\n",
      "grid_searcher = GridSearchCV(\n",
      "        estimator=SvmRbfClassifier(C = 0, gamma = 0, n_jobs = 12),\n",
      "        param_grid={'C' : C_range, 'gamma' : gamma_range },\n",
      "        scoring=make_scorer(f1_score, average='samples'),\n",
      "        cv=3,\n",
      "        n_jobs=1\n",
      ")\n",
      "\n",
      "grid_searcher.fit(X_train_reduced[:1000], y_train[:1000])"
     ],
     "language": "python",
     "metadata": {},
     "outputs": [
      {
       "output_type": "stream",
       "stream": "stderr",
       "text": [
        "/mnt/w76/venv/py27/local/lib/python2.7/site-packages/sklearn/multiclass.py:57: UserWarning: Label not 76 is present in all training examples.\n",
        "  str(classes[c]))\n"
       ]
      },
      {
       "output_type": "stream",
       "stream": "stderr",
       "text": [
        "/mnt/w76/venv/py27/local/lib/python2.7/site-packages/sklearn/multiclass.py:57: UserWarning: Label not 76 is present in all training examples.\n",
        "  str(classes[c]))\n"
       ]
      },
      {
       "output_type": "stream",
       "stream": "stderr",
       "text": [
        "/mnt/w76/venv/py27/local/lib/python2.7/site-packages/sklearn/multiclass.py:57: UserWarning: Label not 76 is present in all training examples.\n",
        "  str(classes[c]))\n"
       ]
      },
      {
       "output_type": "stream",
       "stream": "stderr",
       "text": [
        "/mnt/w76/venv/py27/local/lib/python2.7/site-packages/sklearn/multiclass.py:57: UserWarning: Label not 76 is present in all training examples.\n",
        "  str(classes[c]))\n"
       ]
      },
      {
       "output_type": "stream",
       "stream": "stderr",
       "text": [
        "/mnt/w76/venv/py27/local/lib/python2.7/site-packages/sklearn/multiclass.py:57: UserWarning: Label not 76 is present in all training examples.\n",
        "  str(classes[c]))\n"
       ]
      },
      {
       "output_type": "stream",
       "stream": "stderr",
       "text": [
        "/mnt/w76/venv/py27/local/lib/python2.7/site-packages/sklearn/multiclass.py:57: UserWarning: Label not 76 is present in all training examples.\n",
        "  str(classes[c]))\n"
       ]
      },
      {
       "output_type": "stream",
       "stream": "stderr",
       "text": [
        "/mnt/w76/venv/py27/local/lib/python2.7/site-packages/sklearn/multiclass.py:57: UserWarning: Label not 76 is present in all training examples.\n",
        "  str(classes[c]))\n"
       ]
      },
      {
       "output_type": "stream",
       "stream": "stderr",
       "text": [
        "/mnt/w76/venv/py27/local/lib/python2.7/site-packages/sklearn/multiclass.py:57: UserWarning: Label not 76 is present in all training examples.\n",
        "  str(classes[c]))\n"
       ]
      },
      {
       "output_type": "stream",
       "stream": "stderr",
       "text": [
        "/mnt/w76/venv/py27/local/lib/python2.7/site-packages/sklearn/multiclass.py:57: UserWarning: Label not 76 is present in all training examples.\n",
        "  str(classes[c]))\n"
       ]
      },
      {
       "output_type": "stream",
       "stream": "stderr",
       "text": [
        "/mnt/w76/venv/py27/local/lib/python2.7/site-packages/sklearn/multiclass.py:57: UserWarning: Label not 76 is present in all training examples.\n",
        "  str(classes[c]))\n"
       ]
      },
      {
       "output_type": "stream",
       "stream": "stderr",
       "text": [
        "/mnt/w76/venv/py27/local/lib/python2.7/site-packages/sklearn/multiclass.py:57: UserWarning: Label not 76 is present in all training examples.\n",
        "  str(classes[c]))\n"
       ]
      },
      {
       "output_type": "stream",
       "stream": "stderr",
       "text": [
        "/mnt/w76/venv/py27/local/lib/python2.7/site-packages/sklearn/multiclass.py:57: UserWarning: Label not 76 is present in all training examples.\n",
        "  str(classes[c]))\n"
       ]
      },
      {
       "output_type": "stream",
       "stream": "stderr",
       "text": [
        "/mnt/w76/venv/py27/local/lib/python2.7/site-packages/sklearn/multiclass.py:57: UserWarning: Label not 76 is present in all training examples.\n",
        "  str(classes[c]))\n"
       ]
      },
      {
       "output_type": "stream",
       "stream": "stderr",
       "text": [
        "/mnt/w76/venv/py27/local/lib/python2.7/site-packages/sklearn/multiclass.py:57: UserWarning: Label not 76 is present in all training examples.\n",
        "  str(classes[c]))\n"
       ]
      },
      {
       "output_type": "stream",
       "stream": "stderr",
       "text": [
        "/mnt/w76/venv/py27/local/lib/python2.7/site-packages/sklearn/multiclass.py:57: UserWarning: Label not 76 is present in all training examples.\n",
        "  str(classes[c]))\n"
       ]
      },
      {
       "output_type": "stream",
       "stream": "stderr",
       "text": [
        "/mnt/w76/venv/py27/local/lib/python2.7/site-packages/sklearn/multiclass.py:57: UserWarning: Label not 76 is present in all training examples.\n",
        "  str(classes[c]))\n"
       ]
      },
      {
       "output_type": "stream",
       "stream": "stderr",
       "text": [
        "/mnt/w76/venv/py27/local/lib/python2.7/site-packages/sklearn/multiclass.py:57: UserWarning: Label not 76 is present in all training examples.\n",
        "  str(classes[c]))\n"
       ]
      },
      {
       "output_type": "stream",
       "stream": "stderr",
       "text": [
        "/mnt/w76/venv/py27/local/lib/python2.7/site-packages/sklearn/multiclass.py:57: UserWarning: Label not 76 is present in all training examples.\n",
        "  str(classes[c]))\n"
       ]
      },
      {
       "output_type": "stream",
       "stream": "stderr",
       "text": [
        "/mnt/w76/venv/py27/local/lib/python2.7/site-packages/sklearn/multiclass.py:57: UserWarning: Label not 76 is present in all training examples.\n",
        "  str(classes[c]))\n"
       ]
      },
      {
       "output_type": "stream",
       "stream": "stderr",
       "text": [
        "/mnt/w76/venv/py27/local/lib/python2.7/site-packages/sklearn/multiclass.py:57: UserWarning: Label not 76 is present in all training examples.\n",
        "  str(classes[c]))\n"
       ]
      },
      {
       "output_type": "stream",
       "stream": "stderr",
       "text": [
        "/mnt/w76/venv/py27/local/lib/python2.7/site-packages/sklearn/multiclass.py:57: UserWarning: Label not 76 is present in all training examples.\n",
        "  str(classes[c]))\n"
       ]
      },
      {
       "output_type": "stream",
       "stream": "stderr",
       "text": [
        "/mnt/w76/venv/py27/local/lib/python2.7/site-packages/sklearn/multiclass.py:57: UserWarning: Label not 76 is present in all training examples.\n",
        "  str(classes[c]))\n"
       ]
      },
      {
       "output_type": "stream",
       "stream": "stderr",
       "text": [
        "/mnt/w76/venv/py27/local/lib/python2.7/site-packages/sklearn/multiclass.py:57: UserWarning: Label not 76 is present in all training examples.\n",
        "  str(classes[c]))\n"
       ]
      },
      {
       "output_type": "stream",
       "stream": "stderr",
       "text": [
        "/mnt/w76/venv/py27/local/lib/python2.7/site-packages/sklearn/multiclass.py:57: UserWarning: Label not 76 is present in all training examples.\n",
        "  str(classes[c]))\n"
       ]
      },
      {
       "output_type": "stream",
       "stream": "stderr",
       "text": [
        "/mnt/w76/venv/py27/local/lib/python2.7/site-packages/sklearn/multiclass.py:57: UserWarning: Label not 76 is present in all training examples.\n",
        "  str(classes[c]))\n"
       ]
      },
      {
       "output_type": "stream",
       "stream": "stderr",
       "text": [
        "/mnt/w76/venv/py27/local/lib/python2.7/site-packages/sklearn/multiclass.py:57: UserWarning: Label not 76 is present in all training examples.\n",
        "  str(classes[c]))\n"
       ]
      },
      {
       "output_type": "stream",
       "stream": "stderr",
       "text": [
        "/mnt/w76/venv/py27/local/lib/python2.7/site-packages/sklearn/multiclass.py:57: UserWarning: Label not 76 is present in all training examples.\n",
        "  str(classes[c]))\n"
       ]
      },
      {
       "output_type": "stream",
       "stream": "stderr",
       "text": [
        "/mnt/w76/venv/py27/local/lib/python2.7/site-packages/sklearn/multiclass.py:57: UserWarning: Label not 76 is present in all training examples.\n",
        "  str(classes[c]))\n"
       ]
      },
      {
       "output_type": "stream",
       "stream": "stderr",
       "text": [
        "/mnt/w76/venv/py27/local/lib/python2.7/site-packages/sklearn/multiclass.py:57: UserWarning: Label not 76 is present in all training examples.\n",
        "  str(classes[c]))\n"
       ]
      },
      {
       "output_type": "stream",
       "stream": "stderr",
       "text": [
        "/mnt/w76/venv/py27/local/lib/python2.7/site-packages/sklearn/multiclass.py:57: UserWarning: Label not 76 is present in all training examples.\n",
        "  str(classes[c]))\n"
       ]
      },
      {
       "output_type": "stream",
       "stream": "stderr",
       "text": [
        "/mnt/w76/venv/py27/local/lib/python2.7/site-packages/sklearn/multiclass.py:57: UserWarning: Label not 76 is present in all training examples.\n",
        "  str(classes[c]))\n"
       ]
      },
      {
       "output_type": "stream",
       "stream": "stderr",
       "text": [
        "/mnt/w76/venv/py27/local/lib/python2.7/site-packages/sklearn/multiclass.py:57: UserWarning: Label not 76 is present in all training examples.\n",
        "  str(classes[c]))\n"
       ]
      },
      {
       "output_type": "stream",
       "stream": "stderr",
       "text": [
        "/mnt/w76/venv/py27/local/lib/python2.7/site-packages/sklearn/multiclass.py:57: UserWarning: Label not 76 is present in all training examples.\n",
        "  str(classes[c]))\n"
       ]
      },
      {
       "output_type": "stream",
       "stream": "stderr",
       "text": [
        "/mnt/w76/venv/py27/local/lib/python2.7/site-packages/sklearn/multiclass.py:57: UserWarning: Label not 76 is present in all training examples.\n",
        "  str(classes[c]))\n"
       ]
      },
      {
       "output_type": "stream",
       "stream": "stderr",
       "text": [
        "/mnt/w76/venv/py27/local/lib/python2.7/site-packages/sklearn/multiclass.py:57: UserWarning: Label not 76 is present in all training examples.\n",
        "  str(classes[c]))\n"
       ]
      },
      {
       "output_type": "stream",
       "stream": "stderr",
       "text": [
        "/mnt/w76/venv/py27/local/lib/python2.7/site-packages/sklearn/multiclass.py:57: UserWarning: Label not 76 is present in all training examples.\n",
        "  str(classes[c]))\n"
       ]
      },
      {
       "output_type": "stream",
       "stream": "stderr",
       "text": [
        "/mnt/w76/venv/py27/local/lib/python2.7/site-packages/sklearn/multiclass.py:57: UserWarning: Label not 76 is present in all training examples.\n",
        "  str(classes[c]))\n"
       ]
      },
      {
       "output_type": "stream",
       "stream": "stderr",
       "text": [
        "/mnt/w76/venv/py27/local/lib/python2.7/site-packages/sklearn/multiclass.py:57: UserWarning: Label not 76 is present in all training examples.\n",
        "  str(classes[c]))\n"
       ]
      },
      {
       "output_type": "stream",
       "stream": "stderr",
       "text": [
        "/mnt/w76/venv/py27/local/lib/python2.7/site-packages/sklearn/multiclass.py:57: UserWarning: Label not 76 is present in all training examples.\n",
        "  str(classes[c]))\n"
       ]
      },
      {
       "output_type": "stream",
       "stream": "stderr",
       "text": [
        "/mnt/w76/venv/py27/local/lib/python2.7/site-packages/sklearn/multiclass.py:57: UserWarning: Label not 76 is present in all training examples.\n",
        "  str(classes[c]))\n"
       ]
      },
      {
       "output_type": "stream",
       "stream": "stderr",
       "text": [
        "/mnt/w76/venv/py27/local/lib/python2.7/site-packages/sklearn/multiclass.py:57: UserWarning: Label not 76 is present in all training examples.\n",
        "  str(classes[c]))\n"
       ]
      },
      {
       "output_type": "stream",
       "stream": "stderr",
       "text": [
        "/mnt/w76/venv/py27/local/lib/python2.7/site-packages/sklearn/multiclass.py:57: UserWarning: Label not 76 is present in all training examples.\n",
        "  str(classes[c]))\n"
       ]
      },
      {
       "output_type": "stream",
       "stream": "stderr",
       "text": [
        "/mnt/w76/venv/py27/local/lib/python2.7/site-packages/sklearn/multiclass.py:57: UserWarning: Label not 76 is present in all training examples.\n",
        "  str(classes[c]))\n"
       ]
      },
      {
       "output_type": "stream",
       "stream": "stderr",
       "text": [
        "/mnt/w76/venv/py27/local/lib/python2.7/site-packages/sklearn/multiclass.py:57: UserWarning: Label not 76 is present in all training examples.\n",
        "  str(classes[c]))\n"
       ]
      },
      {
       "output_type": "stream",
       "stream": "stderr",
       "text": [
        "/mnt/w76/venv/py27/local/lib/python2.7/site-packages/sklearn/multiclass.py:57: UserWarning: Label not 76 is present in all training examples.\n",
        "  str(classes[c]))\n"
       ]
      },
      {
       "output_type": "stream",
       "stream": "stderr",
       "text": [
        "/mnt/w76/venv/py27/local/lib/python2.7/site-packages/sklearn/multiclass.py:57: UserWarning: Label not 76 is present in all training examples.\n",
        "  str(classes[c]))\n"
       ]
      },
      {
       "output_type": "stream",
       "stream": "stderr",
       "text": [
        "/mnt/w76/venv/py27/local/lib/python2.7/site-packages/sklearn/multiclass.py:57: UserWarning: Label not 76 is present in all training examples.\n",
        "  str(classes[c]))\n"
       ]
      },
      {
       "output_type": "stream",
       "stream": "stderr",
       "text": [
        "/mnt/w76/venv/py27/local/lib/python2.7/site-packages/sklearn/multiclass.py:57: UserWarning: Label not 76 is present in all training examples.\n",
        "  str(classes[c]))\n"
       ]
      },
      {
       "output_type": "stream",
       "stream": "stderr",
       "text": [
        "/mnt/w76/venv/py27/local/lib/python2.7/site-packages/sklearn/multiclass.py:57: UserWarning: Label not 76 is present in all training examples.\n",
        "  str(classes[c]))\n"
       ]
      },
      {
       "metadata": {},
       "output_type": "pyout",
       "prompt_number": 46,
       "text": [
        "GridSearchCV(cv=3, estimator=SvmRbfClassifier(C=0, gamma=0, n_jobs=12),\n",
        "       fit_params={}, iid=True, loss_func=None, n_jobs=1,\n",
        "       param_grid={'C': [0.018018518518518517, 0.05405555555555555, 0.16216666666666665, 0.4865], 'gamma': [9.259259259259259e-06, 2.7777777777777776e-05, 8.333333333333333e-05, 0.00025]},\n",
        "       pre_dispatch='2*n_jobs', refit=True, score_func=None,\n",
        "       scoring=make_scorer(f1_score, average=samples), verbose=0)"
       ]
      }
     ],
     "prompt_number": 46
    },
    {
     "cell_type": "code",
     "collapsed": false,
     "input": [
      "import pylab as pl\n",
      "# plot the scores of the grid\n",
      "# grid_scores_ contains parameter settings and scores\n",
      "score_dict = grid_searcher.grid_scores_\n",
      "\n",
      "# We extract just the scores\n",
      "scores = [x[1] for x in score_dict]\n",
      "scores = np.array(scores).reshape(len(C_range), len(gamma_range))\n",
      "\n",
      "# draw heatmap of accuracy as a function of gamma and C\n",
      "pl.figure(figsize=(8, 6))\n",
      "pl.subplots_adjust(left=0.05, right=0.95, bottom=0.15, top=0.95)\n",
      "pl.imshow(scores, interpolation='nearest', cmap=pl.cm.spectral)\n",
      "pl.xlabel('gamma')\n",
      "pl.ylabel('C')\n",
      "pl.colorbar()\n",
      "pl.xticks(np.arange(len(gamma_range)), gamma_range, rotation=45)\n",
      "pl.yticks(np.arange(len(C_range)), C_range)\n",
      "\n",
      "pl.show()"
     ],
     "language": "python",
     "metadata": {},
     "outputs": [
      {
       "metadata": {},
       "output_type": "display_data",
       "png": "[encoded data removed]",
       "text": [
        "<matplotlib.figure.Figure at 0x44bfff90>"
       ]
      }
     ],
     "prompt_number": 47
    },
    {
     "cell_type": "code",
     "collapsed": false,
     "input": [
      "grid_searcher.best_params_"
     ],
     "language": "python",
     "metadata": {},
     "outputs": [
      {
       "metadata": {},
       "output_type": "pyout",
       "prompt_number": 49,
       "text": [
        "{'C': 0.4865, 'gamma': 0.00025}"
       ]
      }
     ],
     "prompt_number": 49
    },
    {
     "cell_type": "code",
     "collapsed": false,
     "input": [
      "classifier_rbf = SvmRbfClassifier(C = 0.4865, gamma = 0.00025, n_jobs = 12)\n",
      "\n",
      "classifier_rbf.fit(X_train_reduced, y_train)"
     ],
     "language": "python",
     "metadata": {},
     "outputs": [],
     "prompt_number": 28
    },
    {
     "cell_type": "code",
     "collapsed": false,
     "input": [
      "print \"RBF CV %.3f\" % (f1_score(y_meta.astype(int), classifier_rbf.predict(X_meta_reduced), average = 'samples'))"
     ],
     "language": "python",
     "metadata": {},
     "outputs": [
      {
       "output_type": "stream",
       "stream": "stdout",
       "text": [
        "RBF CV 0.449\n"
       ]
      }
     ],
     "prompt_number": 29
    },
    {
     "cell_type": "code",
     "collapsed": false,
     "input": [
      "p_meta.append(classifier_rbf.predict_proba(X_meta_reduced))\n",
      "p_cv.append(classifier_rbf.predict_proba(X_cv_reduced))\n",
      "p_kaggle.append(classifier_rbf.predict_proba(X_kaggle_reduced))"
     ],
     "language": "python",
     "metadata": {},
     "outputs": [],
     "prompt_number": 30
    },
    {
     "cell_type": "heading",
     "level": 2,
     "metadata": {},
     "source": [
      "6.\u0434) Naive Bayes"
     ]
    },
    {
     "cell_type": "code",
     "collapsed": false,
     "input": [
      "from sklearn.base import BaseEstimator, ClassifierMixin\n",
      "from sklearn.neighbors import KNeighborsClassifier\n",
      "from sklearn.multiclass import OneVsRestClassifier\n",
      "from sklearn.naive_bayes import GaussianNB, MultinomialNB, BernoulliNB\n",
      "\n",
      "class GaussClassifier(BaseEstimator, ClassifierMixin):\n",
      "    def __init__(self, n_jobs=1):\n",
      "        self.n_jobs = n_jobs\n",
      "    \n",
      "    def fit(self, X, y):\n",
      "        self.clf = OneVsRestClassifier(GaussianNB(), self.n_jobs)\n",
      "        self.clf.fit(X, y)\n",
      "    \n",
      "    def predict(self, X):\n",
      "        return np.array([predict_threshold_auto(predicted) for predicted in self.predict_proba(X)])\n",
      "\n",
      "    def predict_proba(self, X):\n",
      "        results = []\n",
      "        for e in self.clf.estimators_ :\n",
      "            try :\n",
      "                results.append(e.predict_proba(X)[:,1])\n",
      "            except AttributeError :\n",
      "                results.append(e.predict(X))\n",
      "            # print results[-1].shape\n",
      "        return np.column_stack(results)\n",
      "\n",
      "class MultinomialClassifier(BaseEstimator, ClassifierMixin):\n",
      "    def __init__(self, n_jobs=1):\n",
      "        self.n_jobs = n_jobs\n",
      "    \n",
      "    def fit(self, X, y):\n",
      "        self.clf = OneVsRestClassifier(MultinomialNB(fit_prior = True), self.n_jobs)\n",
      "        self.clf.fit(X, y)\n",
      "    \n",
      "    def predict(self, X):\n",
      "        return np.array([predict_threshold_auto(predicted) for predicted in self.predict_proba(X)])\n",
      "\n",
      "    def predict_proba(self, X):\n",
      "        results = []\n",
      "        for e in self.clf.estimators_ :\n",
      "            try :\n",
      "                results.append(e.predict_proba(X)[:,1])\n",
      "            except AttributeError :\n",
      "                results.append(e.predict(X))\n",
      "            # print results[-1].shape\n",
      "        return np.column_stack(results)    \n",
      "\n",
      "class BernoulliClassifier(BaseEstimator, ClassifierMixin):\n",
      "    def __init__(self, alpha = 1.0, n_jobs=1):\n",
      "        self.alpha = alpha\n",
      "        self.n_jobs = n_jobs\n",
      "    \n",
      "    def fit(self, X, y):\n",
      "        self.clf = OneVsRestClassifier(BernoulliNB(fit_prior = True, binarize = True, alpha = self.alpha), self.n_jobs)\n",
      "        self.clf.fit(X, y)\n",
      "    \n",
      "    def predict(self, X):\n",
      "        return np.array([predict_threshold_auto(predicted) for predicted in self.predict_proba(X)])\n",
      "\n",
      "    def predict_proba(self, X):\n",
      "        results = []\n",
      "        for e in self.clf.estimators_ :\n",
      "            try :\n",
      "                results.append(e.predict_proba(X)[:,1])\n",
      "            except AttributeError :\n",
      "                results.append(e.predict(X))\n",
      "            # print results[-1].shape\n",
      "        return np.column_stack(results)\n"
     ],
     "language": "python",
     "metadata": {},
     "outputs": [],
     "prompt_number": 31
    },
    {
     "cell_type": "code",
     "collapsed": false,
     "input": [
      "classifier_nb1 = BernoulliClassifier(alpha = 0.9, n_jobs = 12)\n",
      "\n",
      "classifier_nb1.fit(X_train, y_train)\n",
      "\n",
      "print \"Bernoulli NB CV %.3f\" % (f1_score(y_meta.astype(int), classifier_nb1.predict(X_meta), average = 'samples'))"
     ],
     "language": "python",
     "metadata": {},
     "outputs": [
      {
       "output_type": "stream",
       "stream": "stdout",
       "text": [
        "Bernoulli NB CV 0.462\n"
       ]
      }
     ],
     "prompt_number": 32
    },
    {
     "cell_type": "raw",
     "metadata": {},
     "source": [
      "\u0411\u0435\u0440\u0435\u043c \u0411\u0435\u0440\u043d\u0443\u043b\u043b\u0438 \u043a\u0430\u043a \u0441\u0430\u043c\u044b\u0439 \u0445\u043e\u0440\u043e\u0448\u0438\u0439 \u0438\u0437 \u043a\u043e\u0440\u043e\u0431\u043a\u0438"
     ]
    },
    {
     "cell_type": "code",
     "collapsed": false,
     "input": [
      "p_meta.append(classifier_nb1.predict_proba(X_meta))\n",
      "p_cv.append(classifier_nb1.predict_proba(X_cv))\n",
      "p_kaggle.append(classifier_nb1.predict_proba(X_kaggle))"
     ],
     "language": "python",
     "metadata": {},
     "outputs": [],
     "prompt_number": 33
    },
    {
     "cell_type": "code",
     "collapsed": false,
     "input": [
      "classifier_nb2 = GaussClassifier(n_jobs = 12)\n",
      "\n",
      "classifier_nb2.fit(X_train_reduced[:,60:], y_train)"
     ],
     "language": "python",
     "metadata": {},
     "outputs": [],
     "prompt_number": 34
    },
    {
     "cell_type": "code",
     "collapsed": false,
     "input": [
      "print \"Gauss NB CV %.3f\" % (f1_score(y_meta.astype(int), classifier_nb2.predict(X_meta_reduced[:,60:]), average = 'samples'))"
     ],
     "language": "python",
     "metadata": {},
     "outputs": [
      {
       "output_type": "stream",
       "stream": "stdout",
       "text": [
        "Gauss NB CV 0.163\n"
       ]
      }
     ],
     "prompt_number": 35
    },
    {
     "cell_type": "code",
     "collapsed": false,
     "input": [
      "classifier_nb3 = MultinomialClassifier(n_jobs = 1)\n",
      "\n",
      "classifier_nb3.fit(X_train, y_train)"
     ],
     "language": "python",
     "metadata": {},
     "outputs": [],
     "prompt_number": 36
    },
    {
     "cell_type": "code",
     "collapsed": false,
     "input": [
      "print \"Multinomial NB CV %.3f\" % (f1_score(y_meta.astype(int), classifier_nb3.predict(X_meta), average = 'samples'))"
     ],
     "language": "python",
     "metadata": {},
     "outputs": [
      {
       "output_type": "stream",
       "stream": "stdout",
       "text": [
        "Multinomial NB CV 0.364\n"
       ]
      }
     ],
     "prompt_number": 37
    },
    {
     "cell_type": "heading",
     "level": 2,
     "metadata": {},
     "source": [
      "8. \u041c\u0435\u0442\u0430 \u043a\u043b\u0430\u0441\u0441\u0438\u0444\u0438\u043a\u0430\u0442\u043e\u0440 \u043d\u0430 \u043c\u0435\u0442\u0430-\u0444\u0438\u0447\u0430\u0445"
     ]
    },
    {
     "cell_type": "code",
     "collapsed": false,
     "input": [
      "p_meta_stacked = hstack(p_meta)\n",
      "p_cv_stacked = hstack(p_cv)\n",
      "p_kaggle_stacked = hstack(p_kaggle)"
     ],
     "language": "python",
     "metadata": {},
     "outputs": [],
     "prompt_number": 38
    },
    {
     "cell_type": "raw",
     "metadata": {},
     "source": [
      "\u0421\u043e\u0445\u0440\u0430\u043d\u0438\u043c \u043f\u0440\u043e\u043c\u0435\u0436\u0443\u0442\u043e\u0447\u043d\u044b\u0435 \u043f\u0443\u043b\u044b \u043c\u0435\u0442\u0430-\u0444\u0438\u0447 \u043d\u0430 \u0432\u0441\u044f\u043a\u0438\u0439 \u0441\u043b\u0443\u0447\u0430\u0439\n",
      "\n",
      "\u041c\u043e\u0436\u043d\u043e \u043d\u0435 \u0434\u0435\u043b\u0430\u0442\u044c \u043e\u0447\u0435\u043d\u044c \u0437\u0430\u0442\u0440\u0430\u0442\u043d\u044b\u0435 \u0432\u044b\u0447\u0438\u0441\u043b\u0435\u043d\u0438\u0439 \u043a\u0430\u0436\u0434\u044b\u0439 \u0440\u0430\u0437"
     ]
    },
    {
     "cell_type": "code",
     "collapsed": false,
     "input": [
      "def save_csv(X, name) :\n",
      "    with open(name, 'w') as out_file :\n",
      "        out_file.write('\\n'.join(map(lambda x: ','.join(map(str, x)), X)))"
     ],
     "language": "python",
     "metadata": {},
     "outputs": [],
     "prompt_number": 39
    },
    {
     "cell_type": "code",
     "collapsed": false,
     "input": [
      "for n, name in [(0, 'linear_svm'), (1, 'rf'), (2, 'lda'), (3, 'rbf_svm')] :\n",
      "    for p, p_name in [(p_meta, 'meta'), (p_cv, 'cv'), (p_kaggle, 'kaggle')] :\n",
      "        save_csv(p[n], '/home/morph/kaggle3/%s_%s_base.csv' % (name, p_name))"
     ],
     "language": "python",
     "metadata": {},
     "outputs": [],
     "prompt_number": 40
    },
    {
     "cell_type": "code",
     "collapsed": false,
     "input": [
      "for n, name in [(4, 'bernoulli_nb')] :\n",
      "    for p, p_name in [(p_meta, 'meta'), (p_cv, 'cv'), (p_kaggle, 'kaggle')] :\n",
      "        save_csv(p[n], '/home/morph/kaggle3/%s_%s_base.csv' % (name, p_name))"
     ],
     "language": "python",
     "metadata": {},
     "outputs": [],
     "prompt_number": 41
    },
    {
     "cell_type": "code",
     "collapsed": false,
     "input": [
      "def auto_predict(y) :\n",
      "    return np.array([predict_threshold_auto(predicted) for predicted in y])\n",
      "\n",
      "print \"Linear CV %.3f\" % (f1_score(y_meta.astype(int), predict_thresholds(p_meta[0], [math.atan(-0.46) for n in range(83)]), average = 'samples'))\n",
      "print \"LDA CV %.3f\" % (f1_score(y_meta.astype(int), auto_predict(p_meta[1]), average = 'samples'))\n",
      "print \"RF CV %.3f\" % (f1_score(y_meta.astype(int), auto_predict(p_meta[2]), average = 'samples'))\n",
      "print \"RBF CV %.3f\" % (f1_score(y_meta.astype(int), auto_predict(p_meta[3]), average = 'samples'))\n",
      "print \"NB CV %.3f\" % (f1_score(y_meta.astype(int), auto_predict(p_meta[4]), average = 'samples'))"
     ],
     "language": "python",
     "metadata": {},
     "outputs": [
      {
       "output_type": "stream",
       "stream": "stdout",
       "text": [
        "Linear CV 0.497\n",
        "LDA CV 0.439"
       ]
      },
      {
       "output_type": "stream",
       "stream": "stdout",
       "text": [
        "\n",
        "RF CV 0.482"
       ]
      },
      {
       "output_type": "stream",
       "stream": "stdout",
       "text": [
        "\n",
        "RBF CV 0.449"
       ]
      },
      {
       "output_type": "stream",
       "stream": "stdout",
       "text": [
        "\n",
        "NB CV 0.462"
       ]
      },
      {
       "output_type": "stream",
       "stream": "stdout",
       "text": [
        "\n"
       ]
      }
     ],
     "prompt_number": 42
    },
    {
     "cell_type": "heading",
     "level": 2,
     "metadata": {},
     "source": [
      "9 \u0438 10) \u0421\u0442\u0440\u043e\u0438\u043c \u043f\u0440\u0435\u0434\u0441\u043a\u0430\u0437\u0430\u043d\u0438\u044f \u043c\u0435\u0442\u0430-\u043a\u043b\u0430\u0441\u0441\u0438\u0444\u0438\u043a\u0430\u0442\u043e\u0440\u043e\u043c \u0438 \u0438\u0441\u043f\u043e\u043b\u044c\u0437\u0443\u0435\u043c \u0438\u0445"
     ]
    },
    {
     "cell_type": "heading",
     "level": 3,
     "metadata": {},
     "source": [
      "\u0414\u043b\u044f \u043a\u0440\u043e\u0441\u0441-\u0432\u0430\u043b\u0438\u0434\u0430\u0446\u0438\u0438"
     ]
    },
    {
     "cell_type": "code",
     "collapsed": false,
     "input": [
      "for leaves in [3, 5, 7, 9] :\n",
      "    classifier_rf_meta = BaselineRandomForestClassifier(n_jobs = 12, n_estimators = 200, min_samples_leaf = leaves)\n",
      "    classifier_rf_meta.fit(p_meta_stacked, y_meta)\n",
      "    pm_cv_auto = classifier_rf_meta.predict(p_cv_stacked)\n",
      "\n",
      "    print \"CV %.3f\" % (f1_score(y_cv.astype(int), pm_cv_auto, average = 'samples'))"
     ],
     "language": "python",
     "metadata": {},
     "outputs": [
      {
       "output_type": "stream",
       "stream": "stdout",
       "text": [
        "CV 0.498\n"
       ]
      },
      {
       "output_type": "stream",
       "stream": "stderr",
       "text": [
        "/mnt/w76/venv/py27/local/lib/python2.7/site-packages/sklearn/multiclass.py:57: UserWarning: Label not 76 is present in all training examples.\n",
        "  str(classes[c]))\n"
       ]
      },
      {
       "output_type": "stream",
       "stream": "stdout",
       "text": [
        "CV 0.497\n"
       ]
      },
      {
       "output_type": "stream",
       "stream": "stderr",
       "text": [
        "/mnt/w76/venv/py27/local/lib/python2.7/site-packages/sklearn/multiclass.py:57: UserWarning: Label not 76 is present in all training examples.\n",
        "  str(classes[c]))\n"
       ]
      },
      {
       "output_type": "stream",
       "stream": "stdout",
       "text": [
        "CV 0.501\n"
       ]
      },
      {
       "output_type": "stream",
       "stream": "stderr",
       "text": [
        "/mnt/w76/venv/py27/local/lib/python2.7/site-packages/sklearn/multiclass.py:57: UserWarning: Label not 76 is present in all training examples.\n",
        "  str(classes[c]))\n"
       ]
      },
      {
       "output_type": "stream",
       "stream": "stdout",
       "text": [
        "CV 0.499\n"
       ]
      },
      {
       "output_type": "stream",
       "stream": "stderr",
       "text": [
        "/mnt/w76/venv/py27/local/lib/python2.7/site-packages/sklearn/multiclass.py:57: UserWarning: Label not 76 is present in all training examples.\n",
        "  str(classes[c]))\n"
       ]
      }
     ],
     "prompt_number": 43
    },
    {
     "cell_type": "heading",
     "level": 3,
     "metadata": {},
     "source": [
      "\u0414\u043b\u044f \u043f\u043e\u0441\u044b\u043b\u043a\u0438 \u0432 \u043b\u0438\u0434\u0435\u0440\u0431\u043e\u0440\u0434 (\u0434\u043e\u0431\u0430\u0432\u043b\u044f\u0435\u043c test \u0432\u044b\u0431\u043e\u0440\u043a\u0443 \u0432 \u043e\u0431\u0443\u0447\u0435\u043d\u0438\u0435)"
     ]
    },
    {
     "cell_type": "code",
     "collapsed": false,
     "input": [
      "classifier_rf_meta = BaselineRandomForestClassifier(n_jobs = 12, n_estimators = 300, min_samples_leaf = 7)\n",
      "\n",
      "classifier_rf_meta.fit(vstack([p_meta_stacked, p_cv_stacked]), vstack([y_meta, y_cv]))\n",
      "\n",
      "pm_kaggle = classifier_rf_meta.predict_proba(p_kaggle_stacked)\n",
      "\n",
      "pm_kaggle_auto = np.array([predict_threshold_auto(predicted) for predicted in pm_kaggle])\n",
      "write_labels_to_file(pm_kaggle_auto, '/home/morph/kaggle3/svm_rf_lda_rbf_nb_stacked.csv')\n",
      "\n",
      "# Private result is 0.49394 (little bit smaller then at leaderboard, because of lack of kNN, it is too slow)"
     ],
     "language": "python",
     "metadata": {},
     "outputs": [
      {
       "output_type": "stream",
       "stream": "stderr",
       "text": [
        "/mnt/w76/venv/py27/local/lib/python2.7/site-packages/sklearn/multiclass.py:57: UserWarning: Label not 76 is present in all training examples.\n",
        "  str(classes[c]))\n"
       ]
      }
     ],
     "prompt_number": 44
    }
   ],
   "metadata": {}
  }
 ]
}